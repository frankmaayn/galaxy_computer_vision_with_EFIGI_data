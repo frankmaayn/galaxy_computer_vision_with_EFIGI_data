{
 "cells": [
  {
   "cell_type": "code",
   "execution_count": 1,
   "id": "legendary-democracy",
   "metadata": {},
   "outputs": [],
   "source": [
    "# Prototyping code for the GBMDataset class.\n",
    "sys.path.append(\"../../galaxy_computer_vision_with_EFIGI_data\")"
   ]
  },
  {
   "cell_type": "code",
   "execution_count": 6,
   "id": "acoustic-puppy",
   "metadata": {},
   "outputs": [],
   "source": [
    "# Setting up a dataset.\n",
    "import pandas as pd\n",
    "import lightgbm as lgb\n",
    "feature_data = pd.read_csv(\"../datasets/EFIGI_SIFT_feature_data.csv\")\n",
    "train_features = feature_data.iloc[:, 2:257]\n",
    "train_labels = feature_data[\"label\"]\n",
    "train_dataset = lgb.Dataset(train_features, label=train_labels)"
   ]
  },
  {
   "cell_type": "code",
   "execution_count": 7,
   "metadata": {},
   "outputs": [
    {
     "output_type": "execute_result",
     "data": {
      "text/plain": [
       "          pgc_id  SIFT_0  SIFT_1  SIFT_2  SIFT_3  SIFT_4  SIFT_5  SIFT_6  \\\n",
       "0     PGC0000212     6.0     1.0     0.0     0.0     0.0     0.0     2.0   \n",
       "1     PGC0000218    16.0     6.0     1.0     0.0     0.0     1.0     2.0   \n",
       "2     PGC0000243    11.0     0.0     0.0     0.0     0.0     0.0     7.0   \n",
       "3     PGC0000255    19.0     0.0     0.0     0.0     0.0     1.0     7.0   \n",
       "4     PGC0000281     5.0     0.0     0.0     0.0     0.0     0.0     0.0   \n",
       "...          ...     ...     ...     ...     ...     ...     ...     ...   \n",
       "4453  PGC0072806     1.0     0.0     0.0     0.0     0.0     0.0     0.0   \n",
       "4454  PGC0072922     9.0     0.0     0.0     0.0     0.0     0.0    14.0   \n",
       "4455  PGC0072927    25.0     4.0     2.0     1.0     5.0     2.0     5.0   \n",
       "4456  PGC0072930     3.0     0.0     0.0     0.0     0.0     0.0     5.0   \n",
       "4457  PGC0073177     9.0     0.0     0.0     0.0     0.0     0.0    19.0   \n",
       "\n",
       "      SIFT_7  SIFT_8  ...  SIFT_247  SIFT_248  SIFT_249  SIFT_250  SIFT_251  \\\n",
       "0       24.0     3.0  ...       1.0       1.0       1.0       1.0       9.0   \n",
       "1       19.0     3.0  ...       0.0       0.0       0.0      12.0      46.0   \n",
       "2       72.0     2.0  ...       0.0       0.0       0.0       9.0      62.0   \n",
       "3       19.0     3.0  ...       0.0       0.0       1.0       6.0      20.0   \n",
       "4        8.0     9.0  ...      76.0      36.0       2.0       8.0       3.0   \n",
       "...      ...     ...  ...       ...       ...       ...       ...       ...   \n",
       "4453     1.0     3.0  ...       0.0       0.0       0.0       0.0       1.0   \n",
       "4454    33.0     1.0  ...       0.0       0.0       2.0       3.0      14.0   \n",
       "4455    21.0    16.0  ...       0.0       2.0       1.0      16.0      49.0   \n",
       "4456    36.0     1.0  ...       0.0       0.0       0.0       5.0      36.0   \n",
       "4457    25.0     2.0  ...       0.0       0.0       0.0       0.0      10.0   \n",
       "\n",
       "      SIFT_252  SIFT_253  SIFT_254  SIFT_255  label  \n",
       "0         15.0       4.0       3.0       3.0      2  \n",
       "1          4.0       0.0       0.0       0.0      2  \n",
       "2         22.0       0.0       0.0       0.0      1  \n",
       "3          9.0       0.0       0.0       0.0      2  \n",
       "4          1.0       3.0      70.0      82.0      2  \n",
       "...        ...       ...       ...       ...    ...  \n",
       "4453       1.0       0.0       0.0       0.0      2  \n",
       "4454      28.0       0.0       0.0       0.0      2  \n",
       "4455      33.0       4.0       2.0       4.0      2  \n",
       "4456       4.0       0.0       0.0       0.0      2  \n",
       "4457       4.0       1.0       0.0       0.0      3  \n",
       "\n",
       "[4458 rows x 258 columns]"
      ],
      "text/html": "<div>\n<style scoped>\n    .dataframe tbody tr th:only-of-type {\n        vertical-align: middle;\n    }\n\n    .dataframe tbody tr th {\n        vertical-align: top;\n    }\n\n    .dataframe thead th {\n        text-align: right;\n    }\n</style>\n<table border=\"1\" class=\"dataframe\">\n  <thead>\n    <tr style=\"text-align: right;\">\n      <th></th>\n      <th>pgc_id</th>\n      <th>SIFT_0</th>\n      <th>SIFT_1</th>\n      <th>SIFT_2</th>\n      <th>SIFT_3</th>\n      <th>SIFT_4</th>\n      <th>SIFT_5</th>\n      <th>SIFT_6</th>\n      <th>SIFT_7</th>\n      <th>SIFT_8</th>\n      <th>...</th>\n      <th>SIFT_247</th>\n      <th>SIFT_248</th>\n      <th>SIFT_249</th>\n      <th>SIFT_250</th>\n      <th>SIFT_251</th>\n      <th>SIFT_252</th>\n      <th>SIFT_253</th>\n      <th>SIFT_254</th>\n      <th>SIFT_255</th>\n      <th>label</th>\n    </tr>\n  </thead>\n  <tbody>\n    <tr>\n      <th>0</th>\n      <td>PGC0000212</td>\n      <td>6.0</td>\n      <td>1.0</td>\n      <td>0.0</td>\n      <td>0.0</td>\n      <td>0.0</td>\n      <td>0.0</td>\n      <td>2.0</td>\n      <td>24.0</td>\n      <td>3.0</td>\n      <td>...</td>\n      <td>1.0</td>\n      <td>1.0</td>\n      <td>1.0</td>\n      <td>1.0</td>\n      <td>9.0</td>\n      <td>15.0</td>\n      <td>4.0</td>\n      <td>3.0</td>\n      <td>3.0</td>\n      <td>2</td>\n    </tr>\n    <tr>\n      <th>1</th>\n      <td>PGC0000218</td>\n      <td>16.0</td>\n      <td>6.0</td>\n      <td>1.0</td>\n      <td>0.0</td>\n      <td>0.0</td>\n      <td>1.0</td>\n      <td>2.0</td>\n      <td>19.0</td>\n      <td>3.0</td>\n      <td>...</td>\n      <td>0.0</td>\n      <td>0.0</td>\n      <td>0.0</td>\n      <td>12.0</td>\n      <td>46.0</td>\n      <td>4.0</td>\n      <td>0.0</td>\n      <td>0.0</td>\n      <td>0.0</td>\n      <td>2</td>\n    </tr>\n    <tr>\n      <th>2</th>\n      <td>PGC0000243</td>\n      <td>11.0</td>\n      <td>0.0</td>\n      <td>0.0</td>\n      <td>0.0</td>\n      <td>0.0</td>\n      <td>0.0</td>\n      <td>7.0</td>\n      <td>72.0</td>\n      <td>2.0</td>\n      <td>...</td>\n      <td>0.0</td>\n      <td>0.0</td>\n      <td>0.0</td>\n      <td>9.0</td>\n      <td>62.0</td>\n      <td>22.0</td>\n      <td>0.0</td>\n      <td>0.0</td>\n      <td>0.0</td>\n      <td>1</td>\n    </tr>\n    <tr>\n      <th>3</th>\n      <td>PGC0000255</td>\n      <td>19.0</td>\n      <td>0.0</td>\n      <td>0.0</td>\n      <td>0.0</td>\n      <td>0.0</td>\n      <td>1.0</td>\n      <td>7.0</td>\n      <td>19.0</td>\n      <td>3.0</td>\n      <td>...</td>\n      <td>0.0</td>\n      <td>0.0</td>\n      <td>1.0</td>\n      <td>6.0</td>\n      <td>20.0</td>\n      <td>9.0</td>\n      <td>0.0</td>\n      <td>0.0</td>\n      <td>0.0</td>\n      <td>2</td>\n    </tr>\n    <tr>\n      <th>4</th>\n      <td>PGC0000281</td>\n      <td>5.0</td>\n      <td>0.0</td>\n      <td>0.0</td>\n      <td>0.0</td>\n      <td>0.0</td>\n      <td>0.0</td>\n      <td>0.0</td>\n      <td>8.0</td>\n      <td>9.0</td>\n      <td>...</td>\n      <td>76.0</td>\n      <td>36.0</td>\n      <td>2.0</td>\n      <td>8.0</td>\n      <td>3.0</td>\n      <td>1.0</td>\n      <td>3.0</td>\n      <td>70.0</td>\n      <td>82.0</td>\n      <td>2</td>\n    </tr>\n    <tr>\n      <th>...</th>\n      <td>...</td>\n      <td>...</td>\n      <td>...</td>\n      <td>...</td>\n      <td>...</td>\n      <td>...</td>\n      <td>...</td>\n      <td>...</td>\n      <td>...</td>\n      <td>...</td>\n      <td>...</td>\n      <td>...</td>\n      <td>...</td>\n      <td>...</td>\n      <td>...</td>\n      <td>...</td>\n      <td>...</td>\n      <td>...</td>\n      <td>...</td>\n      <td>...</td>\n      <td>...</td>\n    </tr>\n    <tr>\n      <th>4453</th>\n      <td>PGC0072806</td>\n      <td>1.0</td>\n      <td>0.0</td>\n      <td>0.0</td>\n      <td>0.0</td>\n      <td>0.0</td>\n      <td>0.0</td>\n      <td>0.0</td>\n      <td>1.0</td>\n      <td>3.0</td>\n      <td>...</td>\n      <td>0.0</td>\n      <td>0.0</td>\n      <td>0.0</td>\n      <td>0.0</td>\n      <td>1.0</td>\n      <td>1.0</td>\n      <td>0.0</td>\n      <td>0.0</td>\n      <td>0.0</td>\n      <td>2</td>\n    </tr>\n    <tr>\n      <th>4454</th>\n      <td>PGC0072922</td>\n      <td>9.0</td>\n      <td>0.0</td>\n      <td>0.0</td>\n      <td>0.0</td>\n      <td>0.0</td>\n      <td>0.0</td>\n      <td>14.0</td>\n      <td>33.0</td>\n      <td>1.0</td>\n      <td>...</td>\n      <td>0.0</td>\n      <td>0.0</td>\n      <td>2.0</td>\n      <td>3.0</td>\n      <td>14.0</td>\n      <td>28.0</td>\n      <td>0.0</td>\n      <td>0.0</td>\n      <td>0.0</td>\n      <td>2</td>\n    </tr>\n    <tr>\n      <th>4455</th>\n      <td>PGC0072927</td>\n      <td>25.0</td>\n      <td>4.0</td>\n      <td>2.0</td>\n      <td>1.0</td>\n      <td>5.0</td>\n      <td>2.0</td>\n      <td>5.0</td>\n      <td>21.0</td>\n      <td>16.0</td>\n      <td>...</td>\n      <td>0.0</td>\n      <td>2.0</td>\n      <td>1.0</td>\n      <td>16.0</td>\n      <td>49.0</td>\n      <td>33.0</td>\n      <td>4.0</td>\n      <td>2.0</td>\n      <td>4.0</td>\n      <td>2</td>\n    </tr>\n    <tr>\n      <th>4456</th>\n      <td>PGC0072930</td>\n      <td>3.0</td>\n      <td>0.0</td>\n      <td>0.0</td>\n      <td>0.0</td>\n      <td>0.0</td>\n      <td>0.0</td>\n      <td>5.0</td>\n      <td>36.0</td>\n      <td>1.0</td>\n      <td>...</td>\n      <td>0.0</td>\n      <td>0.0</td>\n      <td>0.0</td>\n      <td>5.0</td>\n      <td>36.0</td>\n      <td>4.0</td>\n      <td>0.0</td>\n      <td>0.0</td>\n      <td>0.0</td>\n      <td>2</td>\n    </tr>\n    <tr>\n      <th>4457</th>\n      <td>PGC0073177</td>\n      <td>9.0</td>\n      <td>0.0</td>\n      <td>0.0</td>\n      <td>0.0</td>\n      <td>0.0</td>\n      <td>0.0</td>\n      <td>19.0</td>\n      <td>25.0</td>\n      <td>2.0</td>\n      <td>...</td>\n      <td>0.0</td>\n      <td>0.0</td>\n      <td>0.0</td>\n      <td>0.0</td>\n      <td>10.0</td>\n      <td>4.0</td>\n      <td>1.0</td>\n      <td>0.0</td>\n      <td>0.0</td>\n      <td>3</td>\n    </tr>\n  </tbody>\n</table>\n<p>4458 rows × 258 columns</p>\n</div>"
     },
     "metadata": {},
     "execution_count": 7
    }
   ],
   "source": [
    "feature_data"
   ]
  },
  {
   "cell_type": "code",
   "execution_count": 8,
   "metadata": {},
   "outputs": [
    {
     "output_type": "execute_result",
     "data": {
      "text/plain": [
       "      SIFT_1  SIFT_2  SIFT_3  SIFT_4  SIFT_5  SIFT_6  SIFT_7  SIFT_8  SIFT_9  \\\n",
       "0        1.0     0.0     0.0     0.0     0.0     2.0    24.0     3.0     0.0   \n",
       "1        6.0     1.0     0.0     0.0     1.0     2.0    19.0     3.0     1.0   \n",
       "2        0.0     0.0     0.0     0.0     0.0     7.0    72.0     2.0     0.0   \n",
       "3        0.0     0.0     0.0     0.0     1.0     7.0    19.0     3.0     0.0   \n",
       "4        0.0     0.0     0.0     0.0     0.0     0.0     8.0     9.0     0.0   \n",
       "...      ...     ...     ...     ...     ...     ...     ...     ...     ...   \n",
       "4453     0.0     0.0     0.0     0.0     0.0     0.0     1.0     3.0     0.0   \n",
       "4454     0.0     0.0     0.0     0.0     0.0    14.0    33.0     1.0     0.0   \n",
       "4455     4.0     2.0     1.0     5.0     2.0     5.0    21.0    16.0     1.0   \n",
       "4456     0.0     0.0     0.0     0.0     0.0     5.0    36.0     1.0     0.0   \n",
       "4457     0.0     0.0     0.0     0.0     0.0    19.0    25.0     2.0     0.0   \n",
       "\n",
       "      SIFT_10  ...  SIFT_246  SIFT_247  SIFT_248  SIFT_249  SIFT_250  \\\n",
       "0         0.0  ...       0.0       1.0       1.0       1.0       1.0   \n",
       "1         0.0  ...       0.0       0.0       0.0       0.0      12.0   \n",
       "2         0.0  ...       0.0       0.0       0.0       0.0       9.0   \n",
       "3         0.0  ...       0.0       0.0       0.0       1.0       6.0   \n",
       "4         0.0  ...     107.0      76.0      36.0       2.0       8.0   \n",
       "...       ...  ...       ...       ...       ...       ...       ...   \n",
       "4453      0.0  ...       0.0       0.0       0.0       0.0       0.0   \n",
       "4454      0.0  ...       0.0       0.0       0.0       2.0       3.0   \n",
       "4455      1.0  ...       0.0       0.0       2.0       1.0      16.0   \n",
       "4456      0.0  ...       0.0       0.0       0.0       0.0       5.0   \n",
       "4457      0.0  ...       0.0       0.0       0.0       0.0       0.0   \n",
       "\n",
       "      SIFT_251  SIFT_252  SIFT_253  SIFT_254  SIFT_255  \n",
       "0          9.0      15.0       4.0       3.0       3.0  \n",
       "1         46.0       4.0       0.0       0.0       0.0  \n",
       "2         62.0      22.0       0.0       0.0       0.0  \n",
       "3         20.0       9.0       0.0       0.0       0.0  \n",
       "4          3.0       1.0       3.0      70.0      82.0  \n",
       "...        ...       ...       ...       ...       ...  \n",
       "4453       1.0       1.0       0.0       0.0       0.0  \n",
       "4454      14.0      28.0       0.0       0.0       0.0  \n",
       "4455      49.0      33.0       4.0       2.0       4.0  \n",
       "4456      36.0       4.0       0.0       0.0       0.0  \n",
       "4457      10.0       4.0       1.0       0.0       0.0  \n",
       "\n",
       "[4458 rows x 255 columns]"
      ],
      "text/html": "<div>\n<style scoped>\n    .dataframe tbody tr th:only-of-type {\n        vertical-align: middle;\n    }\n\n    .dataframe tbody tr th {\n        vertical-align: top;\n    }\n\n    .dataframe thead th {\n        text-align: right;\n    }\n</style>\n<table border=\"1\" class=\"dataframe\">\n  <thead>\n    <tr style=\"text-align: right;\">\n      <th></th>\n      <th>SIFT_1</th>\n      <th>SIFT_2</th>\n      <th>SIFT_3</th>\n      <th>SIFT_4</th>\n      <th>SIFT_5</th>\n      <th>SIFT_6</th>\n      <th>SIFT_7</th>\n      <th>SIFT_8</th>\n      <th>SIFT_9</th>\n      <th>SIFT_10</th>\n      <th>...</th>\n      <th>SIFT_246</th>\n      <th>SIFT_247</th>\n      <th>SIFT_248</th>\n      <th>SIFT_249</th>\n      <th>SIFT_250</th>\n      <th>SIFT_251</th>\n      <th>SIFT_252</th>\n      <th>SIFT_253</th>\n      <th>SIFT_254</th>\n      <th>SIFT_255</th>\n    </tr>\n  </thead>\n  <tbody>\n    <tr>\n      <th>0</th>\n      <td>1.0</td>\n      <td>0.0</td>\n      <td>0.0</td>\n      <td>0.0</td>\n      <td>0.0</td>\n      <td>2.0</td>\n      <td>24.0</td>\n      <td>3.0</td>\n      <td>0.0</td>\n      <td>0.0</td>\n      <td>...</td>\n      <td>0.0</td>\n      <td>1.0</td>\n      <td>1.0</td>\n      <td>1.0</td>\n      <td>1.0</td>\n      <td>9.0</td>\n      <td>15.0</td>\n      <td>4.0</td>\n      <td>3.0</td>\n      <td>3.0</td>\n    </tr>\n    <tr>\n      <th>1</th>\n      <td>6.0</td>\n      <td>1.0</td>\n      <td>0.0</td>\n      <td>0.0</td>\n      <td>1.0</td>\n      <td>2.0</td>\n      <td>19.0</td>\n      <td>3.0</td>\n      <td>1.0</td>\n      <td>0.0</td>\n      <td>...</td>\n      <td>0.0</td>\n      <td>0.0</td>\n      <td>0.0</td>\n      <td>0.0</td>\n      <td>12.0</td>\n      <td>46.0</td>\n      <td>4.0</td>\n      <td>0.0</td>\n      <td>0.0</td>\n      <td>0.0</td>\n    </tr>\n    <tr>\n      <th>2</th>\n      <td>0.0</td>\n      <td>0.0</td>\n      <td>0.0</td>\n      <td>0.0</td>\n      <td>0.0</td>\n      <td>7.0</td>\n      <td>72.0</td>\n      <td>2.0</td>\n      <td>0.0</td>\n      <td>0.0</td>\n      <td>...</td>\n      <td>0.0</td>\n      <td>0.0</td>\n      <td>0.0</td>\n      <td>0.0</td>\n      <td>9.0</td>\n      <td>62.0</td>\n      <td>22.0</td>\n      <td>0.0</td>\n      <td>0.0</td>\n      <td>0.0</td>\n    </tr>\n    <tr>\n      <th>3</th>\n      <td>0.0</td>\n      <td>0.0</td>\n      <td>0.0</td>\n      <td>0.0</td>\n      <td>1.0</td>\n      <td>7.0</td>\n      <td>19.0</td>\n      <td>3.0</td>\n      <td>0.0</td>\n      <td>0.0</td>\n      <td>...</td>\n      <td>0.0</td>\n      <td>0.0</td>\n      <td>0.0</td>\n      <td>1.0</td>\n      <td>6.0</td>\n      <td>20.0</td>\n      <td>9.0</td>\n      <td>0.0</td>\n      <td>0.0</td>\n      <td>0.0</td>\n    </tr>\n    <tr>\n      <th>4</th>\n      <td>0.0</td>\n      <td>0.0</td>\n      <td>0.0</td>\n      <td>0.0</td>\n      <td>0.0</td>\n      <td>0.0</td>\n      <td>8.0</td>\n      <td>9.0</td>\n      <td>0.0</td>\n      <td>0.0</td>\n      <td>...</td>\n      <td>107.0</td>\n      <td>76.0</td>\n      <td>36.0</td>\n      <td>2.0</td>\n      <td>8.0</td>\n      <td>3.0</td>\n      <td>1.0</td>\n      <td>3.0</td>\n      <td>70.0</td>\n      <td>82.0</td>\n    </tr>\n    <tr>\n      <th>...</th>\n      <td>...</td>\n      <td>...</td>\n      <td>...</td>\n      <td>...</td>\n      <td>...</td>\n      <td>...</td>\n      <td>...</td>\n      <td>...</td>\n      <td>...</td>\n      <td>...</td>\n      <td>...</td>\n      <td>...</td>\n      <td>...</td>\n      <td>...</td>\n      <td>...</td>\n      <td>...</td>\n      <td>...</td>\n      <td>...</td>\n      <td>...</td>\n      <td>...</td>\n      <td>...</td>\n    </tr>\n    <tr>\n      <th>4453</th>\n      <td>0.0</td>\n      <td>0.0</td>\n      <td>0.0</td>\n      <td>0.0</td>\n      <td>0.0</td>\n      <td>0.0</td>\n      <td>1.0</td>\n      <td>3.0</td>\n      <td>0.0</td>\n      <td>0.0</td>\n      <td>...</td>\n      <td>0.0</td>\n      <td>0.0</td>\n      <td>0.0</td>\n      <td>0.0</td>\n      <td>0.0</td>\n      <td>1.0</td>\n      <td>1.0</td>\n      <td>0.0</td>\n      <td>0.0</td>\n      <td>0.0</td>\n    </tr>\n    <tr>\n      <th>4454</th>\n      <td>0.0</td>\n      <td>0.0</td>\n      <td>0.0</td>\n      <td>0.0</td>\n      <td>0.0</td>\n      <td>14.0</td>\n      <td>33.0</td>\n      <td>1.0</td>\n      <td>0.0</td>\n      <td>0.0</td>\n      <td>...</td>\n      <td>0.0</td>\n      <td>0.0</td>\n      <td>0.0</td>\n      <td>2.0</td>\n      <td>3.0</td>\n      <td>14.0</td>\n      <td>28.0</td>\n      <td>0.0</td>\n      <td>0.0</td>\n      <td>0.0</td>\n    </tr>\n    <tr>\n      <th>4455</th>\n      <td>4.0</td>\n      <td>2.0</td>\n      <td>1.0</td>\n      <td>5.0</td>\n      <td>2.0</td>\n      <td>5.0</td>\n      <td>21.0</td>\n      <td>16.0</td>\n      <td>1.0</td>\n      <td>1.0</td>\n      <td>...</td>\n      <td>0.0</td>\n      <td>0.0</td>\n      <td>2.0</td>\n      <td>1.0</td>\n      <td>16.0</td>\n      <td>49.0</td>\n      <td>33.0</td>\n      <td>4.0</td>\n      <td>2.0</td>\n      <td>4.0</td>\n    </tr>\n    <tr>\n      <th>4456</th>\n      <td>0.0</td>\n      <td>0.0</td>\n      <td>0.0</td>\n      <td>0.0</td>\n      <td>0.0</td>\n      <td>5.0</td>\n      <td>36.0</td>\n      <td>1.0</td>\n      <td>0.0</td>\n      <td>0.0</td>\n      <td>...</td>\n      <td>0.0</td>\n      <td>0.0</td>\n      <td>0.0</td>\n      <td>0.0</td>\n      <td>5.0</td>\n      <td>36.0</td>\n      <td>4.0</td>\n      <td>0.0</td>\n      <td>0.0</td>\n      <td>0.0</td>\n    </tr>\n    <tr>\n      <th>4457</th>\n      <td>0.0</td>\n      <td>0.0</td>\n      <td>0.0</td>\n      <td>0.0</td>\n      <td>0.0</td>\n      <td>19.0</td>\n      <td>25.0</td>\n      <td>2.0</td>\n      <td>0.0</td>\n      <td>0.0</td>\n      <td>...</td>\n      <td>0.0</td>\n      <td>0.0</td>\n      <td>0.0</td>\n      <td>0.0</td>\n      <td>0.0</td>\n      <td>10.0</td>\n      <td>4.0</td>\n      <td>1.0</td>\n      <td>0.0</td>\n      <td>0.0</td>\n    </tr>\n  </tbody>\n</table>\n<p>4458 rows × 255 columns</p>\n</div>"
     },
     "metadata": {},
     "execution_count": 8
    }
   ],
   "source": [
    "train_features"
   ]
  },
  {
   "cell_type": "code",
   "execution_count": 11,
   "id": "third-voluntary",
   "metadata": {
    "tags": []
   },
   "outputs": [
    {
     "output_type": "error",
     "ename": "NameError",
     "evalue": "name 'param' is not defined",
     "traceback": [
      "\u001b[1;31m---------------------------------------------------------------------------\u001b[0m",
      "\u001b[1;31mNameError\u001b[0m                                 Traceback (most recent call last)",
      "\u001b[1;32m<ipython-input-11-5ec769400a38>\u001b[0m in \u001b[0;36m<module>\u001b[1;34m\u001b[0m\n\u001b[0;32m      1\u001b[0m \u001b[1;31m# Train a model on the dataset.\u001b[0m\u001b[1;33m\u001b[0m\u001b[1;33m\u001b[0m\u001b[1;33m\u001b[0m\u001b[0m\n\u001b[1;32m----> 2\u001b[1;33m \u001b[0mmodel\u001b[0m \u001b[1;33m=\u001b[0m \u001b[0mlgb\u001b[0m\u001b[1;33m.\u001b[0m\u001b[0mtrain\u001b[0m\u001b[1;33m(\u001b[0m\u001b[0mparam\u001b[0m\u001b[1;33m,\u001b[0m \u001b[0mtrain_dataset\u001b[0m\u001b[1;33m,\u001b[0m \u001b[1;36m100\u001b[0m\u001b[1;33m)\u001b[0m\u001b[1;33m\u001b[0m\u001b[1;33m\u001b[0m\u001b[0m\n\u001b[0m",
      "\u001b[1;31mNameError\u001b[0m: name 'param' is not defined"
     ]
    }
   ],
   "source": [
    "# Train a model on the dataset.\n",
    "model = lgb.train(param, train_dataset, 100)"
   ]
  },
  {
   "cell_type": "code",
   "execution_count": 10,
   "metadata": {},
   "outputs": [
    {
     "output_type": "error",
     "ename": "NameError",
     "evalue": "name 'model' is not defined",
     "traceback": [
      "\u001b[1;31m---------------------------------------------------------------------------\u001b[0m",
      "\u001b[1;31mNameError\u001b[0m                                 Traceback (most recent call last)",
      "\u001b[1;32m<ipython-input-10-251ae1109ce7>\u001b[0m in \u001b[0;36m<module>\u001b[1;34m\u001b[0m\n\u001b[0;32m      1\u001b[0m \u001b[1;31m# Show a few predictions (on the train dataset--just to test out the LGBM API)\u001b[0m\u001b[1;33m\u001b[0m\u001b[1;33m\u001b[0m\u001b[1;33m\u001b[0m\u001b[0m\n\u001b[0;32m      2\u001b[0m \u001b[1;32mimport\u001b[0m \u001b[0mnumpy\u001b[0m \u001b[1;32mas\u001b[0m \u001b[0mnp\u001b[0m\u001b[1;33m\u001b[0m\u001b[1;33m\u001b[0m\u001b[0m\n\u001b[1;32m----> 3\u001b[1;33m \u001b[1;33m[\u001b[0m\u001b[0mnp\u001b[0m\u001b[1;33m.\u001b[0m\u001b[0margmax\u001b[0m\u001b[1;33m(\u001b[0m\u001b[0mprob\u001b[0m\u001b[1;33m)\u001b[0m \u001b[1;32mfor\u001b[0m \u001b[0mprob\u001b[0m \u001b[1;32min\u001b[0m \u001b[0mmodel\u001b[0m\u001b[1;33m.\u001b[0m\u001b[0mpredict\u001b[0m\u001b[1;33m(\u001b[0m\u001b[0mtrain_features\u001b[0m\u001b[1;33m)\u001b[0m\u001b[1;33m]\u001b[0m\u001b[1;33m[\u001b[0m\u001b[1;36m0\u001b[0m\u001b[1;33m:\u001b[0m\u001b[1;36m10\u001b[0m\u001b[1;33m]\u001b[0m\u001b[1;33m\u001b[0m\u001b[1;33m\u001b[0m\u001b[0m\n\u001b[0m",
      "\u001b[1;31mNameError\u001b[0m: name 'model' is not defined"
     ]
    }
   ],
   "source": [
    "# Show a few predictions (on the train dataset--just to test out the LGBM API)\n",
    "import numpy as np\n",
    "[np.argmax(prob) for prob in model.predict(train_features)][0:10]"
   ]
  },
  {
   "cell_type": "code",
   "execution_count": 19,
   "metadata": {},
   "outputs": [],
   "source": [
    "# Trying out the Scikit API for LGBM\n",
    "# Might be easier to perform evaluation using this.\n",
    "# Cross validate and show accuracy scores.\n",
    "\n",
    "from lightgbm import LGBMClassifier\n",
    "\n",
    "# The data to fit\n",
    "train_features = feature_data.iloc[:, 2:257]\n",
    "# Labels\n",
    "train_labels = feature_data[\"label\"]\n",
    "\n",
    "# The SKLearn compatible object\n",
    "lgbmc = LGBMClassifier()\n",
    "\n",
    "from sklearn.model_selection import cross_validate\n",
    "\n",
    "# The scoring metrics.\n",
    "# Just use accuracy, as this is a multi class classification problem.\n",
    "scoring = [\"accuracy\"]\n",
    "cv_results = cross_validate(lgbmc, train_features, train_labels, cv=5, scoring=scoring)\n"
   ]
  },
  {
   "cell_type": "code",
   "execution_count": 21,
   "metadata": {},
   "outputs": [
    {
     "output_type": "execute_result",
     "data": {
      "text/plain": [
       "{'fit_time': array([1.7911377 , 1.32827997, 1.22500134, 1.73087311, 1.25021267]),\n",
       " 'score_time': array([0.01399827, 0.01400018, 0.01500106, 0.01300073, 0.02200103]),\n",
       " 'test_accuracy': array([0.74439462, 0.75224215, 0.7455157 , 0.74859708, 0.74298541])}"
      ]
     },
     "metadata": {},
     "execution_count": 21
    }
   ],
   "source": [
    "cv_results"
   ]
  },
  {
   "source": [
    "Initial training accuracy is ~74% per fold, indicating a model with room for improvement."
   ],
   "cell_type": "markdown",
   "metadata": {}
  },
  {
   "cell_type": "code",
   "execution_count": 22,
   "metadata": {},
   "outputs": [
    {
     "output_type": "execute_result",
     "data": {
      "text/plain": [
       "array([[  8,   8,  57,   0,   0],\n",
       "       [  8,  15, 112,   0,   0],\n",
       "       [  7,  12, 812,   1,   0],\n",
       "       [  1,   0,  55,   0,   0],\n",
       "       [  1,   0,  18,   0,   0]], dtype=int64)"
      ]
     },
     "metadata": {},
     "execution_count": 22
    }
   ],
   "source": [
    "# Show a confusion matrix for a single train/test split.\n",
    "from lightgbm import LGBMClassifier\n",
    "from sklearn.model_selection import train_test_split\n",
    "from sklearn.metrics import confusion_matrix\n",
    "\n",
    "# The data to fit\n",
    "train_features = feature_data.iloc[:, 2:257]\n",
    "\n",
    "# Labels\n",
    "train_labels = feature_data[\"label\"]\n",
    "\n",
    "# The model\n",
    "lgbmc = LGBMClassifier()\n",
    "X_train, X_test, y_train, y_test = train_test_split(train_features, train_labels)\n",
    "lgbmc.fit(X_train, y_train)\n",
    "y_predict = lgbmc.predict(X_test)\n",
    "confusion_matrix(y_test, y_predict)\n"
   ]
  },
  {
   "cell_type": "code",
   "execution_count": 24,
   "metadata": {},
   "outputs": [
    {
     "output_type": "execute_result",
     "data": {
      "text/plain": [
       "2    3315\n",
       "1     537\n",
       "0     289\n",
       "3     248\n",
       "4      69\n",
       "Name: label, dtype: int64"
      ]
     },
     "metadata": {},
     "execution_count": 24
    }
   ],
   "source": [
    "train_labels.value_counts()"
   ]
  },
  {
   "cell_type": "code",
   "execution_count": null,
   "metadata": {},
   "outputs": [],
   "source": []
  }
 ],
 "metadata": {
  "kernelspec": {
   "name": "python388jvsc74a57bd0d498f01e76f35f6ec088f546b2830faa5557302d29e38f9e82fec0cec6a226be",
   "display_name": "Python 3.8.8 64-bit ('galaxyquest': conda)"
  },
  "language_info": {
   "codemirror_mode": {
    "name": "ipython",
    "version": 3
   },
   "file_extension": ".py",
   "mimetype": "text/x-python",
   "name": "python",
   "nbconvert_exporter": "python",
   "pygments_lexer": "ipython3",
   "version": "3.8.8-final"
  },
  "metadata": {
   "interpreter": {
    "hash": "63fd5069d213b44bf678585dea6b12cceca9941eaf7f819626cde1f2670de90d"
   }
  }
 },
 "nbformat": 4,
 "nbformat_minor": 5
}