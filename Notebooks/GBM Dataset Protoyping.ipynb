{
 "cells": [
  {
   "cell_type": "code",
   "execution_count": 3,
   "id": "legendary-democracy",
   "metadata": {},
   "outputs": [],
   "source": [
    "# Prototyping code for the GBMDataset class.\n",
    "import sys\n",
    "sys.path.append(\"../../galaxy_computer_vision_with_EFIGI_data\")"
   ]
  },
  {
   "cell_type": "code",
   "execution_count": 6,
   "id": "peaceful-wilderness",
   "metadata": {},
   "outputs": [],
   "source": [
    "import lightgbm as lgb"
   ]
  },
  {
   "cell_type": "code",
   "execution_count": 10,
   "id": "laughing-athens",
   "metadata": {},
   "outputs": [],
   "source": [
    "import pandas as pd\n",
    "label_data = pd.read_csv(\"../datasets/EFIGI_labels.csv\")\n",
    "feature_data = pd.read_csv(\"../datasets/EFIGI_features_2keypoints.csv\")"
   ]
  }
 ],
 "metadata": {
  "kernelspec": {
   "display_name": "Python 3",
   "language": "python",
   "name": "python3"
  }
 },
 "nbformat": 4,
 "nbformat_minor": 5
}
