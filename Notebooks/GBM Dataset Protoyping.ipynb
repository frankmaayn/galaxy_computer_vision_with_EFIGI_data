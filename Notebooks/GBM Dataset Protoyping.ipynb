{
 "cells": [
  {
   "cell_type": "code",
   "execution_count": 1,
   "id": "legendary-democracy",
   "metadata": {},
   "outputs": [],
   "source": [
    "# Prototyping code for the GBMDataset class.\n",
    "import sys\n",
    "sys.path.append(\"../../galaxy_computer_vision_with_EFIGI_data\")"
   ]
  },
  {
   "cell_type": "code",
   "execution_count": 2,
   "id": "offensive-horizon",
   "metadata": {},
   "outputs": [],
   "source": [
    "from galaxyquest.gbm.GBMDataset import GBMDataset\n",
    "# Initialize the class and show an example of an item\n",
    "dataset = GBMDataset(\"X:\\efigi\\efigi_png_gri-1.6\\efigi-1.6\\png\", \n",
    "                     \"../datasets/EFIGI_labels.csv\")"
   ]
  },
  {
   "cell_type": "code",
   "execution_count": 3,
   "id": "spoken-major",
   "metadata": {},
   "outputs": [
    {
     "data": {
      "text/plain": [
       "4458"
      ]
     },
     "execution_count": 3,
     "metadata": {},
     "output_type": "execute_result"
    }
   ],
   "source": [
    "len(dataset)"
   ]
  },
  {
   "cell_type": "code",
   "execution_count": null,
   "id": "peaceful-wilderness",
   "metadata": {},
   "outputs": [],
   "source": []
  }
 ],
 "metadata": {
  "kernelspec": {
   "display_name": "Python 3",
   "language": "python",
   "name": "python3"
  },
  "language_info": {
   "codemirror_mode": {
    "name": "ipython",
    "version": 3
   },
   "file_extension": ".py",
   "mimetype": "text/x-python",
   "name": "python",
   "nbconvert_exporter": "python",
   "pygments_lexer": "ipython3",
   "version": "3.8.8"
  }
 },
 "nbformat": 4,
 "nbformat_minor": 5
}
