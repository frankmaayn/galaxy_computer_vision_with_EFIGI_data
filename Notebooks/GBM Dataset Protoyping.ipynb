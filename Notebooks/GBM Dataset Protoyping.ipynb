{
 "cells": [
  {
   "cell_type": "code",
   "execution_count": 1,
   "id": "legendary-democracy",
   "metadata": {},
   "outputs": [],
   "source": [
    "# Prototyping code for the GBMDataset class.\n",
    "import sys\n",
    "sys.path.append(\"../../galaxy_computer_vision_with_EFIGI_data\")"
   ]
  },
  {
   "cell_type": "code",
   "execution_count": 2,
   "id": "peaceful-wilderness",
   "metadata": {},
   "outputs": [],
   "source": [
    "import lightgbm as lgb"
   ]
  },
  {
   "cell_type": "code",
   "execution_count": 3,
   "id": "neural-immigration",
   "metadata": {},
   "outputs": [],
   "source": [
    "import pandas as pd\n",
    "feature_data = pd.read_csv(\"../datasets/EFIGI_SIFT_feature_data.csv\")"
   ]
  },
  {
   "cell_type": "code",
   "execution_count": 4,
   "id": "acoustic-puppy",
   "metadata": {},
   "outputs": [],
   "source": [
    "train_features = feature_data.iloc[:, 3:59]\n",
    "train_labels = feature_data[\"label\"]\n",
    "train_dataset = lgb.Dataset(train_features, label=train_labels)"
   ]
  },
  {
   "cell_type": "code",
   "execution_count": 5,
   "id": "professional-exercise",
   "metadata": {},
   "outputs": [
    {
     "name": "stdout",
     "output_type": "stream",
     "text": [
      "[LightGBM] [Warning] Auto-choosing col-wise multi-threading, the overhead of testing was 0.004968 seconds.\n",
      "You can set `force_col_wise=true` to remove the overhead.\n",
      "[LightGBM] [Info] Total Bins 3446\n",
      "[LightGBM] [Info] Number of data points in the train set: 3566, number of used features: 56\n",
      "[LightGBM] [Warning] Auto-choosing col-wise multi-threading, the overhead of testing was 0.002612 seconds.\n",
      "You can set `force_col_wise=true` to remove the overhead.\n",
      "[LightGBM] [Info] Total Bins 3446\n",
      "[LightGBM] [Info] Number of data points in the train set: 3566, number of used features: 56\n",
      "[LightGBM] [Warning] Auto-choosing col-wise multi-threading, the overhead of testing was 0.002052 seconds.\n",
      "You can set `force_col_wise=true` to remove the overhead.\n",
      "[LightGBM] [Info] Total Bins 3446\n",
      "[LightGBM] [Info] Number of data points in the train set: 3566, number of used features: 56\n",
      "[LightGBM] [Warning] Auto-choosing col-wise multi-threading, the overhead of testing was 0.002422 seconds.\n",
      "You can set `force_col_wise=true` to remove the overhead.\n",
      "[LightGBM] [Info] Total Bins 3446\n",
      "[LightGBM] [Info] Number of data points in the train set: 3567, number of used features: 56\n",
      "[LightGBM] [Warning] Auto-choosing col-wise multi-threading, the overhead of testing was 0.005664 seconds.\n",
      "You can set `force_col_wise=true` to remove the overhead.\n",
      "[LightGBM] [Info] Total Bins 3446\n",
      "[LightGBM] [Info] Number of data points in the train set: 3567, number of used features: 56\n",
      "[LightGBM] [Info] Start training from score -0.583813\n",
      "[LightGBM] [Info] Start training from score -34.538776\n",
      "[LightGBM] [Info] Start training from score -0.991543\n",
      "[LightGBM] [Info] Start training from score -2.885895\n",
      "[LightGBM] [Info] Start training from score -4.171867\n",
      "[LightGBM] [Warning] No further splits with positive gain, best gain: -inf\n",
      "[LightGBM] [Warning] No further splits with positive gain, best gain: -inf\n",
      "[LightGBM] [Info] Start training from score -0.583813\n",
      "[LightGBM] [Info] Start training from score -34.538776\n",
      "[LightGBM] [Info] Start training from score -0.990787\n",
      "[LightGBM] [Info] Start training from score -2.890933\n",
      "[LightGBM] [Info] Start training from score -4.171867\n",
      "[LightGBM] [Warning] No further splits with positive gain, best gain: -inf\n",
      "[LightGBM] [Warning] No further splits with positive gain, best gain: -inf\n",
      "[LightGBM] [Info] Start training from score -0.583310\n",
      "[LightGBM] [Info] Start training from score -34.538776\n",
      "[LightGBM] [Info] Start training from score -0.991543\n",
      "[LightGBM] [Info] Start training from score -2.890933\n",
      "[LightGBM] [Info] Start training from score -4.171867\n",
      "[LightGBM] [Warning] No further splits with positive gain, best gain: -inf\n",
      "[LightGBM] [Warning] No further splits with positive gain, best gain: -inf\n",
      "[LightGBM] [Info] Start training from score -0.583590\n",
      "[LightGBM] [Info] Start training from score -34.538776\n",
      "[LightGBM] [Info] Start training from score -0.991823\n",
      "[LightGBM] [Info] Start training from score -2.891213\n",
      "[LightGBM] [Info] Start training from score -4.154128\n",
      "[LightGBM] [Warning] No further splits with positive gain, best gain: -inf\n",
      "[LightGBM] [Warning] No further splits with positive gain, best gain: -inf\n",
      "[LightGBM] [Info] Start training from score -0.583590\n",
      "[LightGBM] [Info] Start training from score -34.538776\n",
      "[LightGBM] [Info] Start training from score -0.991823\n",
      "[LightGBM] [Info] Start training from score -2.886175\n",
      "[LightGBM] [Info] Start training from score -4.172147\n",
      "[LightGBM] [Warning] No further splits with positive gain, best gain: -inf\n",
      "[LightGBM] [Warning] No further splits with positive gain, best gain: -inf\n"
     ]
    },
    {
     "data": {
      "text/plain": [
       "{'multi_logloss-mean': [0.9037356731207831],\n",
       " 'multi_logloss-stdv': [0.0030536362700669794]}"
      ]
     },
     "execution_count": 5,
     "metadata": {},
     "output_type": "execute_result"
    }
   ],
   "source": [
    "param = {'num_leaves': 100, 'objective': 'multiclass', \"num_classes\":5}\n",
    "lgb.cv(param, train_dataset, 1, nfold=5)"
   ]
  },
  {
   "cell_type": "code",
   "execution_count": null,
   "id": "third-voluntary",
   "metadata": {},
   "outputs": [],
   "source": []
  }
 ],
 "metadata": {
  "kernelspec": {
   "display_name": "Python 3",
   "language": "python",
   "name": "python3"
  },
  "language_info": {
   "codemirror_mode": {
    "name": "ipython",
    "version": 3
   },
   "file_extension": ".py",
   "mimetype": "text/x-python",
   "name": "python",
   "nbconvert_exporter": "python",
   "pygments_lexer": "ipython3",
   "version": "3.8.8"
  }
 },
 "nbformat": 4,
 "nbformat_minor": 5
}
