{
 "cells": [
  {
   "cell_type": "code",
   "execution_count": 1,
   "id": "charitable-synthesis",
   "metadata": {},
   "outputs": [
    {
     "output_type": "stream",
     "name": "stderr",
     "text": [
      "<ipython-input-1-8c2d9b619525>:3: ParserWarning: Falling back to the 'python' engine because the 'c' engine does not support regex separators (separators > 1 char and different from '\\s+' are interpreted as regex); you can avoid this warning by specifying engine='python'.\n  text_attributes = pd.read_csv(\"../datasets/EFIGI_attributes.txt\", sep = \" +\")\n"
     ]
    }
   ],
   "source": [
    "# Read text file with a regex (1 or more spaces) as the separator.\n",
    "import pandas as pd\n",
    "text_attributes = pd.read_csv(\"../datasets/EFIGI_attributes.txt\", sep = \" +\")"
   ]
  },
  {
   "cell_type": "code",
   "execution_count": 15,
   "id": "specific-placement",
   "metadata": {},
   "outputs": [
    {
     "output_type": "execute_result",
     "data": {
      "text/plain": [
       "         PGCname   T  T_inf  T_sup  Bulge_to_Total  Bulge_to_Total_inf  \\\n",
       "0     PGC0000212   1      0      2            0.50                0.50   \n",
       "1     PGC0000218   0     -1      1            0.75                0.50   \n",
       "2     PGC0000243  -2     -3     -2            1.00                0.75   \n",
       "3     PGC0000255   9      9     10            0.00                0.00   \n",
       "4     PGC0000281   7      6      9            0.25                0.00   \n",
       "...          ...  ..    ...    ...             ...                 ...   \n",
       "4453  PGC0072806   6      4      8            0.25                0.25   \n",
       "4454  PGC0072922   4      3      4            0.25                0.25   \n",
       "4455  PGC0072927   3      2      4            0.50                0.50   \n",
       "4456  PGC0072930   3      2      4            0.75                0.50   \n",
       "4457  PGC0073177  10      9     10            0.00                0.00   \n",
       "\n",
       "      Bulge_to_Total_sup  Arm_Strength  Arm_Strength_inf  Arm_Strength_sup  \\\n",
       "0                   0.50          0.25              0.25              0.25   \n",
       "1                   0.75         -1.00             -1.00             -1.00   \n",
       "2                   1.00          0.00              0.00              0.25   \n",
       "3                   0.25          0.00              0.00              0.25   \n",
       "4                   0.50          0.00              0.00              0.25   \n",
       "...                  ...           ...               ...               ...   \n",
       "4453                0.25          0.00              0.00              0.50   \n",
       "4454                0.50          0.50              0.50              0.50   \n",
       "4455                0.75          0.25              0.25              0.50   \n",
       "4456                0.75          0.00              0.00              0.25   \n",
       "4457                0.25          0.25              0.00              0.25   \n",
       "\n",
       "      ...  Inclination  Inclination_inf  Inclination_sup  Contamination  \\\n",
       "0     ...         0.75             0.75             0.75           0.00   \n",
       "1     ...         1.00             1.00             1.00           0.25   \n",
       "2     ...         0.00             0.00             0.25           0.00   \n",
       "3     ...         0.25             0.00             0.25           0.25   \n",
       "4     ...         0.25             0.00             0.25           0.50   \n",
       "...   ...          ...              ...              ...            ...   \n",
       "4453  ...         0.25             0.25             0.50           0.00   \n",
       "4454  ...         0.00             0.00             0.25           0.50   \n",
       "4455  ...         0.00             0.00             0.25           0.00   \n",
       "4456  ...         0.50             0.25             0.50           0.25   \n",
       "4457  ...         0.50             0.25             0.75           0.25   \n",
       "\n",
       "      Contamination_inf  Contamination_sup  Multiplicity  Multiplicity_inf  \\\n",
       "0                  0.00               0.25          0.25              0.25   \n",
       "1                  0.25               0.25          0.00              0.00   \n",
       "2                  0.00               0.00          0.00              0.00   \n",
       "3                  0.00               0.25          0.00              0.00   \n",
       "4                  0.50               0.50          0.25              0.00   \n",
       "...                 ...                ...           ...               ...   \n",
       "4453               0.00               0.00          0.00              0.00   \n",
       "4454               0.50               0.50          0.00              0.00   \n",
       "4455               0.00               0.25          0.00              0.00   \n",
       "4456               0.00               0.25          0.00              0.00   \n",
       "4457               0.00               0.25          0.00              0.00   \n",
       "\n",
       "      Multiplicity_sup  category_label  \n",
       "0                 0.25               2  \n",
       "1                 0.00               2  \n",
       "2                 0.00               1  \n",
       "3                 0.00               2  \n",
       "4                 0.25               2  \n",
       "...                ...             ...  \n",
       "4453              0.00               2  \n",
       "4454              0.00               2  \n",
       "4455              0.00               2  \n",
       "4456              0.00               2  \n",
       "4457              0.25               3  \n",
       "\n",
       "[4458 rows x 53 columns]"
      ],
      "text/html": "<div>\n<style scoped>\n    .dataframe tbody tr th:only-of-type {\n        vertical-align: middle;\n    }\n\n    .dataframe tbody tr th {\n        vertical-align: top;\n    }\n\n    .dataframe thead th {\n        text-align: right;\n    }\n</style>\n<table border=\"1\" class=\"dataframe\">\n  <thead>\n    <tr style=\"text-align: right;\">\n      <th></th>\n      <th>PGCname</th>\n      <th>T</th>\n      <th>T_inf</th>\n      <th>T_sup</th>\n      <th>Bulge_to_Total</th>\n      <th>Bulge_to_Total_inf</th>\n      <th>Bulge_to_Total_sup</th>\n      <th>Arm_Strength</th>\n      <th>Arm_Strength_inf</th>\n      <th>Arm_Strength_sup</th>\n      <th>...</th>\n      <th>Inclination</th>\n      <th>Inclination_inf</th>\n      <th>Inclination_sup</th>\n      <th>Contamination</th>\n      <th>Contamination_inf</th>\n      <th>Contamination_sup</th>\n      <th>Multiplicity</th>\n      <th>Multiplicity_inf</th>\n      <th>Multiplicity_sup</th>\n      <th>category_label</th>\n    </tr>\n  </thead>\n  <tbody>\n    <tr>\n      <th>0</th>\n      <td>PGC0000212</td>\n      <td>1</td>\n      <td>0</td>\n      <td>2</td>\n      <td>0.50</td>\n      <td>0.50</td>\n      <td>0.50</td>\n      <td>0.25</td>\n      <td>0.25</td>\n      <td>0.25</td>\n      <td>...</td>\n      <td>0.75</td>\n      <td>0.75</td>\n      <td>0.75</td>\n      <td>0.00</td>\n      <td>0.00</td>\n      <td>0.25</td>\n      <td>0.25</td>\n      <td>0.25</td>\n      <td>0.25</td>\n      <td>2</td>\n    </tr>\n    <tr>\n      <th>1</th>\n      <td>PGC0000218</td>\n      <td>0</td>\n      <td>-1</td>\n      <td>1</td>\n      <td>0.75</td>\n      <td>0.50</td>\n      <td>0.75</td>\n      <td>-1.00</td>\n      <td>-1.00</td>\n      <td>-1.00</td>\n      <td>...</td>\n      <td>1.00</td>\n      <td>1.00</td>\n      <td>1.00</td>\n      <td>0.25</td>\n      <td>0.25</td>\n      <td>0.25</td>\n      <td>0.00</td>\n      <td>0.00</td>\n      <td>0.00</td>\n      <td>2</td>\n    </tr>\n    <tr>\n      <th>2</th>\n      <td>PGC0000243</td>\n      <td>-2</td>\n      <td>-3</td>\n      <td>-2</td>\n      <td>1.00</td>\n      <td>0.75</td>\n      <td>1.00</td>\n      <td>0.00</td>\n      <td>0.00</td>\n      <td>0.25</td>\n      <td>...</td>\n      <td>0.00</td>\n      <td>0.00</td>\n      <td>0.25</td>\n      <td>0.00</td>\n      <td>0.00</td>\n      <td>0.00</td>\n      <td>0.00</td>\n      <td>0.00</td>\n      <td>0.00</td>\n      <td>1</td>\n    </tr>\n    <tr>\n      <th>3</th>\n      <td>PGC0000255</td>\n      <td>9</td>\n      <td>9</td>\n      <td>10</td>\n      <td>0.00</td>\n      <td>0.00</td>\n      <td>0.25</td>\n      <td>0.00</td>\n      <td>0.00</td>\n      <td>0.25</td>\n      <td>...</td>\n      <td>0.25</td>\n      <td>0.00</td>\n      <td>0.25</td>\n      <td>0.25</td>\n      <td>0.00</td>\n      <td>0.25</td>\n      <td>0.00</td>\n      <td>0.00</td>\n      <td>0.00</td>\n      <td>2</td>\n    </tr>\n    <tr>\n      <th>4</th>\n      <td>PGC0000281</td>\n      <td>7</td>\n      <td>6</td>\n      <td>9</td>\n      <td>0.25</td>\n      <td>0.00</td>\n      <td>0.50</td>\n      <td>0.00</td>\n      <td>0.00</td>\n      <td>0.25</td>\n      <td>...</td>\n      <td>0.25</td>\n      <td>0.00</td>\n      <td>0.25</td>\n      <td>0.50</td>\n      <td>0.50</td>\n      <td>0.50</td>\n      <td>0.25</td>\n      <td>0.00</td>\n      <td>0.25</td>\n      <td>2</td>\n    </tr>\n    <tr>\n      <th>...</th>\n      <td>...</td>\n      <td>...</td>\n      <td>...</td>\n      <td>...</td>\n      <td>...</td>\n      <td>...</td>\n      <td>...</td>\n      <td>...</td>\n      <td>...</td>\n      <td>...</td>\n      <td>...</td>\n      <td>...</td>\n      <td>...</td>\n      <td>...</td>\n      <td>...</td>\n      <td>...</td>\n      <td>...</td>\n      <td>...</td>\n      <td>...</td>\n      <td>...</td>\n      <td>...</td>\n    </tr>\n    <tr>\n      <th>4453</th>\n      <td>PGC0072806</td>\n      <td>6</td>\n      <td>4</td>\n      <td>8</td>\n      <td>0.25</td>\n      <td>0.25</td>\n      <td>0.25</td>\n      <td>0.00</td>\n      <td>0.00</td>\n      <td>0.50</td>\n      <td>...</td>\n      <td>0.25</td>\n      <td>0.25</td>\n      <td>0.50</td>\n      <td>0.00</td>\n      <td>0.00</td>\n      <td>0.00</td>\n      <td>0.00</td>\n      <td>0.00</td>\n      <td>0.00</td>\n      <td>2</td>\n    </tr>\n    <tr>\n      <th>4454</th>\n      <td>PGC0072922</td>\n      <td>4</td>\n      <td>3</td>\n      <td>4</td>\n      <td>0.25</td>\n      <td>0.25</td>\n      <td>0.50</td>\n      <td>0.50</td>\n      <td>0.50</td>\n      <td>0.50</td>\n      <td>...</td>\n      <td>0.00</td>\n      <td>0.00</td>\n      <td>0.25</td>\n      <td>0.50</td>\n      <td>0.50</td>\n      <td>0.50</td>\n      <td>0.00</td>\n      <td>0.00</td>\n      <td>0.00</td>\n      <td>2</td>\n    </tr>\n    <tr>\n      <th>4455</th>\n      <td>PGC0072927</td>\n      <td>3</td>\n      <td>2</td>\n      <td>4</td>\n      <td>0.50</td>\n      <td>0.50</td>\n      <td>0.75</td>\n      <td>0.25</td>\n      <td>0.25</td>\n      <td>0.50</td>\n      <td>...</td>\n      <td>0.00</td>\n      <td>0.00</td>\n      <td>0.25</td>\n      <td>0.00</td>\n      <td>0.00</td>\n      <td>0.25</td>\n      <td>0.00</td>\n      <td>0.00</td>\n      <td>0.00</td>\n      <td>2</td>\n    </tr>\n    <tr>\n      <th>4456</th>\n      <td>PGC0072930</td>\n      <td>3</td>\n      <td>2</td>\n      <td>4</td>\n      <td>0.75</td>\n      <td>0.50</td>\n      <td>0.75</td>\n      <td>0.00</td>\n      <td>0.00</td>\n      <td>0.25</td>\n      <td>...</td>\n      <td>0.50</td>\n      <td>0.25</td>\n      <td>0.50</td>\n      <td>0.25</td>\n      <td>0.00</td>\n      <td>0.25</td>\n      <td>0.00</td>\n      <td>0.00</td>\n      <td>0.00</td>\n      <td>2</td>\n    </tr>\n    <tr>\n      <th>4457</th>\n      <td>PGC0073177</td>\n      <td>10</td>\n      <td>9</td>\n      <td>10</td>\n      <td>0.00</td>\n      <td>0.00</td>\n      <td>0.25</td>\n      <td>0.25</td>\n      <td>0.00</td>\n      <td>0.25</td>\n      <td>...</td>\n      <td>0.50</td>\n      <td>0.25</td>\n      <td>0.75</td>\n      <td>0.25</td>\n      <td>0.00</td>\n      <td>0.25</td>\n      <td>0.00</td>\n      <td>0.00</td>\n      <td>0.25</td>\n      <td>3</td>\n    </tr>\n  </tbody>\n</table>\n<p>4458 rows × 53 columns</p>\n</div>"
     },
     "metadata": {},
     "execution_count": 15
    }
   ],
   "source": [
    "text_attributes"
   ]
  },
  {
   "cell_type": "markdown",
   "id": "encouraging-breeding",
   "metadata": {},
   "source": [
    "### We want to get more grannular with the target labels, so we will append a new columnn to the CSV to split up the types like such:\n",
    "\n",
    "### 0: Elliptical\n",
    "### 1: Lenticular\n",
    "### 2: Spiral\n",
    "### 3: Irregular\n",
    "### 4: Dwarf Spheroid Elliptical"
   ]
  },
  {
   "cell_type": "code",
   "execution_count": 8,
   "id": "representative-mayor",
   "metadata": {},
   "outputs": [],
   "source": [
    "# Using a for loop on a Numpy array in this way is actually quite efficient.\n",
    "# Source: https://stackoverflow.com/questions/35215161/most-efficient-way-to-map-function-over-numpy-array\\\n",
    "def type_splitter(n: int):\n",
    "    if -6 <= n <= -4:\n",
    "        n = 0\n",
    "    elif -3 <= n <= -1:\n",
    "        n = 1\n",
    "    elif 0 <= n <= 9:\n",
    "        n = 2\n",
    "    elif n == 10:\n",
    "        n = 3\n",
    "    else:\n",
    "        n = 4\n",
    "    return n\n",
    "\n",
    "def type_splitter_by_name(n):\n",
    "    labels = [\n",
    "        \"elliptical\",\n",
    "        \"lenticular\",\n",
    "        \"spiral\",\n",
    "        \"irregular\",\n",
    "        \"dwarf_elliptical\"\n",
    "    ]\n",
    "    return labels[n]\n",
    "    \n",
    "def split_types_bycategory(type_list): \n",
    "    return [type_splitter(n) for n in type_list]\n",
    "\n",
    "def get_category_label_names(category_label_list):\n",
    "    return [type_splitter_by_name(n) for n in category_label_list]\n"
   ]
  },
  {
   "cell_type": "code",
   "execution_count": 9,
   "id": "similar-director",
   "metadata": {},
   "outputs": [
    {
     "output_type": "execute_result",
     "data": {
      "text/plain": [
       "array([ 1,  0, -2, ...,  3,  3, 10], dtype=int64)"
      ]
     },
     "metadata": {},
     "execution_count": 9
    }
   ],
   "source": [
    "import numpy as np\n",
    "# Append a new column to the CSV with the split data.\n",
    "types_list_original = np.array(text_attributes[\"T\"])\n",
    "types_list_original"
   ]
  },
  {
   "cell_type": "code",
   "execution_count": 10,
   "id": "anonymous-parcel",
   "metadata": {},
   "outputs": [
    {
     "output_type": "execute_result",
     "data": {
      "text/plain": [
       "[2, 2, 1, 2, 2, 2, 2, 2, 2, 2]"
      ]
     },
     "metadata": {},
     "execution_count": 10
    }
   ],
   "source": [
    "types_list_bycategory = split_types_bycategory(types_list_original)\n",
    "text_attributes[\"category_label\"] = types_list_bycategory\n",
    "types_list_bycategory[0:10]"
   ]
  },
  {
   "cell_type": "code",
   "execution_count": 24,
   "metadata": {},
   "outputs": [],
   "source": [
    "text_attributes[\"category_label_name\"] = get_category_label_names(types_list_bycategory)"
   ]
  },
  {
   "cell_type": "code",
   "execution_count": 35,
   "id": "brief-porter",
   "metadata": {
    "scrolled": true
   },
   "outputs": [
    {
     "output_type": "execute_result",
     "data": {
      "text/plain": [
       "         PGCname   T  category_label category_label_name\n",
       "0     PGC0000212   1               2              spiral\n",
       "1     PGC0000218   0               2              spiral\n",
       "2     PGC0000243  -2               1          lenticular\n",
       "3     PGC0000255   9               2              spiral\n",
       "4     PGC0000281   7               2              spiral\n",
       "...          ...  ..             ...                 ...\n",
       "4453  PGC0072806   6               2              spiral\n",
       "4454  PGC0072922   4               2              spiral\n",
       "4455  PGC0072927   3               2              spiral\n",
       "4456  PGC0072930   3               2              spiral\n",
       "4457  PGC0073177  10               3           irregular\n",
       "\n",
       "[4458 rows x 4 columns]"
      ],
      "text/html": "<div>\n<style scoped>\n    .dataframe tbody tr th:only-of-type {\n        vertical-align: middle;\n    }\n\n    .dataframe tbody tr th {\n        vertical-align: top;\n    }\n\n    .dataframe thead th {\n        text-align: right;\n    }\n</style>\n<table border=\"1\" class=\"dataframe\">\n  <thead>\n    <tr style=\"text-align: right;\">\n      <th></th>\n      <th>PGCname</th>\n      <th>T</th>\n      <th>category_label</th>\n      <th>category_label_name</th>\n    </tr>\n  </thead>\n  <tbody>\n    <tr>\n      <th>0</th>\n      <td>PGC0000212</td>\n      <td>1</td>\n      <td>2</td>\n      <td>spiral</td>\n    </tr>\n    <tr>\n      <th>1</th>\n      <td>PGC0000218</td>\n      <td>0</td>\n      <td>2</td>\n      <td>spiral</td>\n    </tr>\n    <tr>\n      <th>2</th>\n      <td>PGC0000243</td>\n      <td>-2</td>\n      <td>1</td>\n      <td>lenticular</td>\n    </tr>\n    <tr>\n      <th>3</th>\n      <td>PGC0000255</td>\n      <td>9</td>\n      <td>2</td>\n      <td>spiral</td>\n    </tr>\n    <tr>\n      <th>4</th>\n      <td>PGC0000281</td>\n      <td>7</td>\n      <td>2</td>\n      <td>spiral</td>\n    </tr>\n    <tr>\n      <th>...</th>\n      <td>...</td>\n      <td>...</td>\n      <td>...</td>\n      <td>...</td>\n    </tr>\n    <tr>\n      <th>4453</th>\n      <td>PGC0072806</td>\n      <td>6</td>\n      <td>2</td>\n      <td>spiral</td>\n    </tr>\n    <tr>\n      <th>4454</th>\n      <td>PGC0072922</td>\n      <td>4</td>\n      <td>2</td>\n      <td>spiral</td>\n    </tr>\n    <tr>\n      <th>4455</th>\n      <td>PGC0072927</td>\n      <td>3</td>\n      <td>2</td>\n      <td>spiral</td>\n    </tr>\n    <tr>\n      <th>4456</th>\n      <td>PGC0072930</td>\n      <td>3</td>\n      <td>2</td>\n      <td>spiral</td>\n    </tr>\n    <tr>\n      <th>4457</th>\n      <td>PGC0073177</td>\n      <td>10</td>\n      <td>3</td>\n      <td>irregular</td>\n    </tr>\n  </tbody>\n</table>\n<p>4458 rows × 4 columns</p>\n</div>"
     },
     "metadata": {},
     "execution_count": 35
    }
   ],
   "source": [
    "efigi_labels = text_attributes[[\"PGCname\", \"T\", \"category_label\", \"category_label_name\"]]\n",
    "efigi_labels\n"
   ]
  },
  {
   "cell_type": "code",
   "execution_count": 34,
   "metadata": {},
   "outputs": [
    {
     "output_type": "execute_result",
     "data": {
      "text/plain": [
       "2    3315\n",
       "1     537\n",
       "0     289\n",
       "3     248\n",
       "4      69\n",
       "Name: category_label, dtype: int64"
      ]
     },
     "metadata": {},
     "execution_count": 34
    }
   ],
   "source": [
    "# Show value counts of processed labels\n",
    "efigi_labels[\"category_label\"].value_counts()"
   ]
  },
  {
   "cell_type": "code",
   "execution_count": 31,
   "id": "compound-column",
   "metadata": {},
   "outputs": [],
   "source": [
    "# Save the parsed data to a CSV file.\n",
    "efigi_labels.to_csv(\"EFIGI_labels.csv\")"
   ]
  },
  {
   "cell_type": "code",
   "execution_count": 33,
   "metadata": {},
   "outputs": [
    {
     "output_type": "error",
     "ename": "FileNotFoundError",
     "evalue": "[Errno 2] No such file or directory: '../datasets/EFIGI_SIFT_feature_data.csv'",
     "traceback": [
      "\u001b[1;31m---------------------------------------------------------------------------\u001b[0m",
      "\u001b[1;31mFileNotFoundError\u001b[0m                         Traceback (most recent call last)",
      "\u001b[1;32m<ipython-input-33-53bff5aa17d2>\u001b[0m in \u001b[0;36m<module>\u001b[1;34m\u001b[0m\n\u001b[1;32m----> 1\u001b[1;33m \u001b[0mfeature_data\u001b[0m \u001b[1;33m=\u001b[0m \u001b[0mpd\u001b[0m\u001b[1;33m.\u001b[0m\u001b[0mread_csv\u001b[0m\u001b[1;33m(\u001b[0m\u001b[1;34m\"../datasets/EFIGI_SIFT_feature_data.csv\"\u001b[0m\u001b[1;33m)\u001b[0m\u001b[1;33m\u001b[0m\u001b[1;33m\u001b[0m\u001b[0m\n\u001b[0m\u001b[0;32m      2\u001b[0m \u001b[0mfeature_data\u001b[0m\u001b[1;33m[\u001b[0m\u001b[1;34m\"label\"\u001b[0m\u001b[1;33m]\u001b[0m \u001b[1;33m=\u001b[0m \u001b[0mefigi_labels\u001b[0m\u001b[1;33m.\u001b[0m\u001b[0mcategory_label\u001b[0m\u001b[1;33m\u001b[0m\u001b[1;33m\u001b[0m\u001b[0m\n\u001b[0;32m      3\u001b[0m \u001b[0mfeature_data\u001b[0m\u001b[1;33m[\u001b[0m\u001b[1;34m\"label_name\"\u001b[0m\u001b[1;33m]\u001b[0m \u001b[1;33m=\u001b[0m \u001b[0mefigi_labels\u001b[0m\u001b[1;33m.\u001b[0m\u001b[0mcategory_label_name\u001b[0m\u001b[1;33m\u001b[0m\u001b[1;33m\u001b[0m\u001b[0m\n",
      "\u001b[1;32m~\\anaconda3\\envs\\galaxyquest\\lib\\site-packages\\pandas\\io\\parsers.py\u001b[0m in \u001b[0;36mread_csv\u001b[1;34m(filepath_or_buffer, sep, delimiter, header, names, index_col, usecols, squeeze, prefix, mangle_dupe_cols, dtype, engine, converters, true_values, false_values, skipinitialspace, skiprows, skipfooter, nrows, na_values, keep_default_na, na_filter, verbose, skip_blank_lines, parse_dates, infer_datetime_format, keep_date_col, date_parser, dayfirst, cache_dates, iterator, chunksize, compression, thousands, decimal, lineterminator, quotechar, quoting, doublequote, escapechar, comment, encoding, dialect, error_bad_lines, warn_bad_lines, delim_whitespace, low_memory, memory_map, float_precision, storage_options)\u001b[0m\n\u001b[0;32m    608\u001b[0m     \u001b[0mkwds\u001b[0m\u001b[1;33m.\u001b[0m\u001b[0mupdate\u001b[0m\u001b[1;33m(\u001b[0m\u001b[0mkwds_defaults\u001b[0m\u001b[1;33m)\u001b[0m\u001b[1;33m\u001b[0m\u001b[1;33m\u001b[0m\u001b[0m\n\u001b[0;32m    609\u001b[0m \u001b[1;33m\u001b[0m\u001b[0m\n\u001b[1;32m--> 610\u001b[1;33m     \u001b[1;32mreturn\u001b[0m \u001b[0m_read\u001b[0m\u001b[1;33m(\u001b[0m\u001b[0mfilepath_or_buffer\u001b[0m\u001b[1;33m,\u001b[0m \u001b[0mkwds\u001b[0m\u001b[1;33m)\u001b[0m\u001b[1;33m\u001b[0m\u001b[1;33m\u001b[0m\u001b[0m\n\u001b[0m\u001b[0;32m    611\u001b[0m \u001b[1;33m\u001b[0m\u001b[0m\n\u001b[0;32m    612\u001b[0m \u001b[1;33m\u001b[0m\u001b[0m\n",
      "\u001b[1;32m~\\anaconda3\\envs\\galaxyquest\\lib\\site-packages\\pandas\\io\\parsers.py\u001b[0m in \u001b[0;36m_read\u001b[1;34m(filepath_or_buffer, kwds)\u001b[0m\n\u001b[0;32m    460\u001b[0m \u001b[1;33m\u001b[0m\u001b[0m\n\u001b[0;32m    461\u001b[0m     \u001b[1;31m# Create the parser.\u001b[0m\u001b[1;33m\u001b[0m\u001b[1;33m\u001b[0m\u001b[1;33m\u001b[0m\u001b[0m\n\u001b[1;32m--> 462\u001b[1;33m     \u001b[0mparser\u001b[0m \u001b[1;33m=\u001b[0m \u001b[0mTextFileReader\u001b[0m\u001b[1;33m(\u001b[0m\u001b[0mfilepath_or_buffer\u001b[0m\u001b[1;33m,\u001b[0m \u001b[1;33m**\u001b[0m\u001b[0mkwds\u001b[0m\u001b[1;33m)\u001b[0m\u001b[1;33m\u001b[0m\u001b[1;33m\u001b[0m\u001b[0m\n\u001b[0m\u001b[0;32m    463\u001b[0m \u001b[1;33m\u001b[0m\u001b[0m\n\u001b[0;32m    464\u001b[0m     \u001b[1;32mif\u001b[0m \u001b[0mchunksize\u001b[0m \u001b[1;32mor\u001b[0m \u001b[0miterator\u001b[0m\u001b[1;33m:\u001b[0m\u001b[1;33m\u001b[0m\u001b[1;33m\u001b[0m\u001b[0m\n",
      "\u001b[1;32m~\\anaconda3\\envs\\galaxyquest\\lib\\site-packages\\pandas\\io\\parsers.py\u001b[0m in \u001b[0;36m__init__\u001b[1;34m(self, f, engine, **kwds)\u001b[0m\n\u001b[0;32m    817\u001b[0m             \u001b[0mself\u001b[0m\u001b[1;33m.\u001b[0m\u001b[0moptions\u001b[0m\u001b[1;33m[\u001b[0m\u001b[1;34m\"has_index_names\"\u001b[0m\u001b[1;33m]\u001b[0m \u001b[1;33m=\u001b[0m \u001b[0mkwds\u001b[0m\u001b[1;33m[\u001b[0m\u001b[1;34m\"has_index_names\"\u001b[0m\u001b[1;33m]\u001b[0m\u001b[1;33m\u001b[0m\u001b[1;33m\u001b[0m\u001b[0m\n\u001b[0;32m    818\u001b[0m \u001b[1;33m\u001b[0m\u001b[0m\n\u001b[1;32m--> 819\u001b[1;33m         \u001b[0mself\u001b[0m\u001b[1;33m.\u001b[0m\u001b[0m_engine\u001b[0m \u001b[1;33m=\u001b[0m \u001b[0mself\u001b[0m\u001b[1;33m.\u001b[0m\u001b[0m_make_engine\u001b[0m\u001b[1;33m(\u001b[0m\u001b[0mself\u001b[0m\u001b[1;33m.\u001b[0m\u001b[0mengine\u001b[0m\u001b[1;33m)\u001b[0m\u001b[1;33m\u001b[0m\u001b[1;33m\u001b[0m\u001b[0m\n\u001b[0m\u001b[0;32m    820\u001b[0m \u001b[1;33m\u001b[0m\u001b[0m\n\u001b[0;32m    821\u001b[0m     \u001b[1;32mdef\u001b[0m \u001b[0mclose\u001b[0m\u001b[1;33m(\u001b[0m\u001b[0mself\u001b[0m\u001b[1;33m)\u001b[0m\u001b[1;33m:\u001b[0m\u001b[1;33m\u001b[0m\u001b[1;33m\u001b[0m\u001b[0m\n",
      "\u001b[1;32m~\\anaconda3\\envs\\galaxyquest\\lib\\site-packages\\pandas\\io\\parsers.py\u001b[0m in \u001b[0;36m_make_engine\u001b[1;34m(self, engine)\u001b[0m\n\u001b[0;32m   1048\u001b[0m             )\n\u001b[0;32m   1049\u001b[0m         \u001b[1;31m# error: Too many arguments for \"ParserBase\"\u001b[0m\u001b[1;33m\u001b[0m\u001b[1;33m\u001b[0m\u001b[1;33m\u001b[0m\u001b[0m\n\u001b[1;32m-> 1050\u001b[1;33m         \u001b[1;32mreturn\u001b[0m \u001b[0mmapping\u001b[0m\u001b[1;33m[\u001b[0m\u001b[0mengine\u001b[0m\u001b[1;33m]\u001b[0m\u001b[1;33m(\u001b[0m\u001b[0mself\u001b[0m\u001b[1;33m.\u001b[0m\u001b[0mf\u001b[0m\u001b[1;33m,\u001b[0m \u001b[1;33m**\u001b[0m\u001b[0mself\u001b[0m\u001b[1;33m.\u001b[0m\u001b[0moptions\u001b[0m\u001b[1;33m)\u001b[0m  \u001b[1;31m# type: ignore[call-arg]\u001b[0m\u001b[1;33m\u001b[0m\u001b[1;33m\u001b[0m\u001b[0m\n\u001b[0m\u001b[0;32m   1051\u001b[0m \u001b[1;33m\u001b[0m\u001b[0m\n\u001b[0;32m   1052\u001b[0m     \u001b[1;32mdef\u001b[0m \u001b[0m_failover_to_python\u001b[0m\u001b[1;33m(\u001b[0m\u001b[0mself\u001b[0m\u001b[1;33m)\u001b[0m\u001b[1;33m:\u001b[0m\u001b[1;33m\u001b[0m\u001b[1;33m\u001b[0m\u001b[0m\n",
      "\u001b[1;32m~\\anaconda3\\envs\\galaxyquest\\lib\\site-packages\\pandas\\io\\parsers.py\u001b[0m in \u001b[0;36m__init__\u001b[1;34m(self, src, **kwds)\u001b[0m\n\u001b[0;32m   1865\u001b[0m \u001b[1;33m\u001b[0m\u001b[0m\n\u001b[0;32m   1866\u001b[0m         \u001b[1;31m# open handles\u001b[0m\u001b[1;33m\u001b[0m\u001b[1;33m\u001b[0m\u001b[1;33m\u001b[0m\u001b[0m\n\u001b[1;32m-> 1867\u001b[1;33m         \u001b[0mself\u001b[0m\u001b[1;33m.\u001b[0m\u001b[0m_open_handles\u001b[0m\u001b[1;33m(\u001b[0m\u001b[0msrc\u001b[0m\u001b[1;33m,\u001b[0m \u001b[0mkwds\u001b[0m\u001b[1;33m)\u001b[0m\u001b[1;33m\u001b[0m\u001b[1;33m\u001b[0m\u001b[0m\n\u001b[0m\u001b[0;32m   1868\u001b[0m         \u001b[1;32massert\u001b[0m \u001b[0mself\u001b[0m\u001b[1;33m.\u001b[0m\u001b[0mhandles\u001b[0m \u001b[1;32mis\u001b[0m \u001b[1;32mnot\u001b[0m \u001b[1;32mNone\u001b[0m\u001b[1;33m\u001b[0m\u001b[1;33m\u001b[0m\u001b[0m\n\u001b[0;32m   1869\u001b[0m         \u001b[1;32mfor\u001b[0m \u001b[0mkey\u001b[0m \u001b[1;32min\u001b[0m \u001b[1;33m(\u001b[0m\u001b[1;34m\"storage_options\"\u001b[0m\u001b[1;33m,\u001b[0m \u001b[1;34m\"encoding\"\u001b[0m\u001b[1;33m,\u001b[0m \u001b[1;34m\"memory_map\"\u001b[0m\u001b[1;33m,\u001b[0m \u001b[1;34m\"compression\"\u001b[0m\u001b[1;33m)\u001b[0m\u001b[1;33m:\u001b[0m\u001b[1;33m\u001b[0m\u001b[1;33m\u001b[0m\u001b[0m\n",
      "\u001b[1;32m~\\anaconda3\\envs\\galaxyquest\\lib\\site-packages\\pandas\\io\\parsers.py\u001b[0m in \u001b[0;36m_open_handles\u001b[1;34m(self, src, kwds)\u001b[0m\n\u001b[0;32m   1360\u001b[0m         \u001b[0mLet\u001b[0m \u001b[0mthe\u001b[0m \u001b[0mreaders\u001b[0m \u001b[0mopen\u001b[0m \u001b[0mIOHanldes\u001b[0m \u001b[0mafter\u001b[0m \u001b[0mthey\u001b[0m \u001b[0mare\u001b[0m \u001b[0mdone\u001b[0m \u001b[1;32mwith\u001b[0m \u001b[0mtheir\u001b[0m \u001b[0mpotential\u001b[0m \u001b[0mraises\u001b[0m\u001b[1;33m.\u001b[0m\u001b[1;33m\u001b[0m\u001b[1;33m\u001b[0m\u001b[0m\n\u001b[0;32m   1361\u001b[0m         \"\"\"\n\u001b[1;32m-> 1362\u001b[1;33m         self.handles = get_handle(\n\u001b[0m\u001b[0;32m   1363\u001b[0m             \u001b[0msrc\u001b[0m\u001b[1;33m,\u001b[0m\u001b[1;33m\u001b[0m\u001b[1;33m\u001b[0m\u001b[0m\n\u001b[0;32m   1364\u001b[0m             \u001b[1;34m\"r\"\u001b[0m\u001b[1;33m,\u001b[0m\u001b[1;33m\u001b[0m\u001b[1;33m\u001b[0m\u001b[0m\n",
      "\u001b[1;32m~\\anaconda3\\envs\\galaxyquest\\lib\\site-packages\\pandas\\io\\common.py\u001b[0m in \u001b[0;36mget_handle\u001b[1;34m(path_or_buf, mode, encoding, compression, memory_map, is_text, errors, storage_options)\u001b[0m\n\u001b[0;32m    640\u001b[0m                 \u001b[0merrors\u001b[0m \u001b[1;33m=\u001b[0m \u001b[1;34m\"replace\"\u001b[0m\u001b[1;33m\u001b[0m\u001b[1;33m\u001b[0m\u001b[0m\n\u001b[0;32m    641\u001b[0m             \u001b[1;31m# Encoding\u001b[0m\u001b[1;33m\u001b[0m\u001b[1;33m\u001b[0m\u001b[1;33m\u001b[0m\u001b[0m\n\u001b[1;32m--> 642\u001b[1;33m             handle = open(\n\u001b[0m\u001b[0;32m    643\u001b[0m                 \u001b[0mhandle\u001b[0m\u001b[1;33m,\u001b[0m\u001b[1;33m\u001b[0m\u001b[1;33m\u001b[0m\u001b[0m\n\u001b[0;32m    644\u001b[0m                 \u001b[0mioargs\u001b[0m\u001b[1;33m.\u001b[0m\u001b[0mmode\u001b[0m\u001b[1;33m,\u001b[0m\u001b[1;33m\u001b[0m\u001b[1;33m\u001b[0m\u001b[0m\n",
      "\u001b[1;31mFileNotFoundError\u001b[0m: [Errno 2] No such file or directory: '../datasets/EFIGI_SIFT_feature_data.csv'"
     ]
    }
   ],
   "source": [
    "\n",
    "feature_data = pd.read_csv(\"../datasets/EFIGI_SIFT_feature_data.csv\")\n",
    "feature_data[\"label\"] = efigi_labels.category_label\n",
    "feature_data[\"label_name\"] = efigi_labels.category_label_name"
   ]
  },
  {
   "cell_type": "code",
   "execution_count": 37,
   "metadata": {},
   "outputs": [],
   "source": [
    "feature_data.to_csv(\"EFIGI_SIFT_feature_data.csv\", index=False)"
   ]
  },
  {
   "cell_type": "code",
   "execution_count": 36,
   "metadata": {},
   "outputs": [
    {
     "output_type": "execute_result",
     "data": {
      "text/plain": [
       "          pgc_id  SIFT_0  SIFT_1  SIFT_2  SIFT_3  SIFT_4  SIFT_5  SIFT_6  \\\n",
       "0     PGC0000212     6.0     1.0     0.0     0.0     0.0     0.0     2.0   \n",
       "1     PGC0000218    16.0     6.0     1.0     0.0     0.0     1.0     2.0   \n",
       "2     PGC0000243    11.0     0.0     0.0     0.0     0.0     0.0     7.0   \n",
       "3     PGC0000255    19.0     0.0     0.0     0.0     0.0     1.0     7.0   \n",
       "4     PGC0000281     5.0     0.0     0.0     0.0     0.0     0.0     0.0   \n",
       "...          ...     ...     ...     ...     ...     ...     ...     ...   \n",
       "4453  PGC0072806     1.0     0.0     0.0     0.0     0.0     0.0     0.0   \n",
       "4454  PGC0072922     9.0     0.0     0.0     0.0     0.0     0.0    14.0   \n",
       "4455  PGC0072927    25.0     4.0     2.0     1.0     5.0     2.0     5.0   \n",
       "4456  PGC0072930     3.0     0.0     0.0     0.0     0.0     0.0     5.0   \n",
       "4457  PGC0073177     9.0     0.0     0.0     0.0     0.0     0.0    19.0   \n",
       "\n",
       "      SIFT_7  SIFT_8  ...  SIFT_248  SIFT_249  SIFT_250  SIFT_251  SIFT_252  \\\n",
       "0       24.0     3.0  ...       1.0       1.0       1.0       9.0      15.0   \n",
       "1       19.0     3.0  ...       0.0       0.0      12.0      46.0       4.0   \n",
       "2       72.0     2.0  ...       0.0       0.0       9.0      62.0      22.0   \n",
       "3       19.0     3.0  ...       0.0       1.0       6.0      20.0       9.0   \n",
       "4        8.0     9.0  ...      36.0       2.0       8.0       3.0       1.0   \n",
       "...      ...     ...  ...       ...       ...       ...       ...       ...   \n",
       "4453     1.0     3.0  ...       0.0       0.0       0.0       1.0       1.0   \n",
       "4454    33.0     1.0  ...       0.0       2.0       3.0      14.0      28.0   \n",
       "4455    21.0    16.0  ...       2.0       1.0      16.0      49.0      33.0   \n",
       "4456    36.0     1.0  ...       0.0       0.0       5.0      36.0       4.0   \n",
       "4457    25.0     2.0  ...       0.0       0.0       0.0      10.0       4.0   \n",
       "\n",
       "      SIFT_253  SIFT_254  SIFT_255  label  label_name  \n",
       "0          4.0       3.0       3.0      2      spiral  \n",
       "1          0.0       0.0       0.0      2      spiral  \n",
       "2          0.0       0.0       0.0      1  lenticular  \n",
       "3          0.0       0.0       0.0      2      spiral  \n",
       "4          3.0      70.0      82.0      2      spiral  \n",
       "...        ...       ...       ...    ...         ...  \n",
       "4453       0.0       0.0       0.0      2      spiral  \n",
       "4454       0.0       0.0       0.0      2      spiral  \n",
       "4455       4.0       2.0       4.0      2      spiral  \n",
       "4456       0.0       0.0       0.0      2      spiral  \n",
       "4457       1.0       0.0       0.0      3   irregular  \n",
       "\n",
       "[4458 rows x 259 columns]"
      ],
      "text/html": "<div>\n<style scoped>\n    .dataframe tbody tr th:only-of-type {\n        vertical-align: middle;\n    }\n\n    .dataframe tbody tr th {\n        vertical-align: top;\n    }\n\n    .dataframe thead th {\n        text-align: right;\n    }\n</style>\n<table border=\"1\" class=\"dataframe\">\n  <thead>\n    <tr style=\"text-align: right;\">\n      <th></th>\n      <th>pgc_id</th>\n      <th>SIFT_0</th>\n      <th>SIFT_1</th>\n      <th>SIFT_2</th>\n      <th>SIFT_3</th>\n      <th>SIFT_4</th>\n      <th>SIFT_5</th>\n      <th>SIFT_6</th>\n      <th>SIFT_7</th>\n      <th>SIFT_8</th>\n      <th>...</th>\n      <th>SIFT_248</th>\n      <th>SIFT_249</th>\n      <th>SIFT_250</th>\n      <th>SIFT_251</th>\n      <th>SIFT_252</th>\n      <th>SIFT_253</th>\n      <th>SIFT_254</th>\n      <th>SIFT_255</th>\n      <th>label</th>\n      <th>label_name</th>\n    </tr>\n  </thead>\n  <tbody>\n    <tr>\n      <th>0</th>\n      <td>PGC0000212</td>\n      <td>6.0</td>\n      <td>1.0</td>\n      <td>0.0</td>\n      <td>0.0</td>\n      <td>0.0</td>\n      <td>0.0</td>\n      <td>2.0</td>\n      <td>24.0</td>\n      <td>3.0</td>\n      <td>...</td>\n      <td>1.0</td>\n      <td>1.0</td>\n      <td>1.0</td>\n      <td>9.0</td>\n      <td>15.0</td>\n      <td>4.0</td>\n      <td>3.0</td>\n      <td>3.0</td>\n      <td>2</td>\n      <td>spiral</td>\n    </tr>\n    <tr>\n      <th>1</th>\n      <td>PGC0000218</td>\n      <td>16.0</td>\n      <td>6.0</td>\n      <td>1.0</td>\n      <td>0.0</td>\n      <td>0.0</td>\n      <td>1.0</td>\n      <td>2.0</td>\n      <td>19.0</td>\n      <td>3.0</td>\n      <td>...</td>\n      <td>0.0</td>\n      <td>0.0</td>\n      <td>12.0</td>\n      <td>46.0</td>\n      <td>4.0</td>\n      <td>0.0</td>\n      <td>0.0</td>\n      <td>0.0</td>\n      <td>2</td>\n      <td>spiral</td>\n    </tr>\n    <tr>\n      <th>2</th>\n      <td>PGC0000243</td>\n      <td>11.0</td>\n      <td>0.0</td>\n      <td>0.0</td>\n      <td>0.0</td>\n      <td>0.0</td>\n      <td>0.0</td>\n      <td>7.0</td>\n      <td>72.0</td>\n      <td>2.0</td>\n      <td>...</td>\n      <td>0.0</td>\n      <td>0.0</td>\n      <td>9.0</td>\n      <td>62.0</td>\n      <td>22.0</td>\n      <td>0.0</td>\n      <td>0.0</td>\n      <td>0.0</td>\n      <td>1</td>\n      <td>lenticular</td>\n    </tr>\n    <tr>\n      <th>3</th>\n      <td>PGC0000255</td>\n      <td>19.0</td>\n      <td>0.0</td>\n      <td>0.0</td>\n      <td>0.0</td>\n      <td>0.0</td>\n      <td>1.0</td>\n      <td>7.0</td>\n      <td>19.0</td>\n      <td>3.0</td>\n      <td>...</td>\n      <td>0.0</td>\n      <td>1.0</td>\n      <td>6.0</td>\n      <td>20.0</td>\n      <td>9.0</td>\n      <td>0.0</td>\n      <td>0.0</td>\n      <td>0.0</td>\n      <td>2</td>\n      <td>spiral</td>\n    </tr>\n    <tr>\n      <th>4</th>\n      <td>PGC0000281</td>\n      <td>5.0</td>\n      <td>0.0</td>\n      <td>0.0</td>\n      <td>0.0</td>\n      <td>0.0</td>\n      <td>0.0</td>\n      <td>0.0</td>\n      <td>8.0</td>\n      <td>9.0</td>\n      <td>...</td>\n      <td>36.0</td>\n      <td>2.0</td>\n      <td>8.0</td>\n      <td>3.0</td>\n      <td>1.0</td>\n      <td>3.0</td>\n      <td>70.0</td>\n      <td>82.0</td>\n      <td>2</td>\n      <td>spiral</td>\n    </tr>\n    <tr>\n      <th>...</th>\n      <td>...</td>\n      <td>...</td>\n      <td>...</td>\n      <td>...</td>\n      <td>...</td>\n      <td>...</td>\n      <td>...</td>\n      <td>...</td>\n      <td>...</td>\n      <td>...</td>\n      <td>...</td>\n      <td>...</td>\n      <td>...</td>\n      <td>...</td>\n      <td>...</td>\n      <td>...</td>\n      <td>...</td>\n      <td>...</td>\n      <td>...</td>\n      <td>...</td>\n      <td>...</td>\n    </tr>\n    <tr>\n      <th>4453</th>\n      <td>PGC0072806</td>\n      <td>1.0</td>\n      <td>0.0</td>\n      <td>0.0</td>\n      <td>0.0</td>\n      <td>0.0</td>\n      <td>0.0</td>\n      <td>0.0</td>\n      <td>1.0</td>\n      <td>3.0</td>\n      <td>...</td>\n      <td>0.0</td>\n      <td>0.0</td>\n      <td>0.0</td>\n      <td>1.0</td>\n      <td>1.0</td>\n      <td>0.0</td>\n      <td>0.0</td>\n      <td>0.0</td>\n      <td>2</td>\n      <td>spiral</td>\n    </tr>\n    <tr>\n      <th>4454</th>\n      <td>PGC0072922</td>\n      <td>9.0</td>\n      <td>0.0</td>\n      <td>0.0</td>\n      <td>0.0</td>\n      <td>0.0</td>\n      <td>0.0</td>\n      <td>14.0</td>\n      <td>33.0</td>\n      <td>1.0</td>\n      <td>...</td>\n      <td>0.0</td>\n      <td>2.0</td>\n      <td>3.0</td>\n      <td>14.0</td>\n      <td>28.0</td>\n      <td>0.0</td>\n      <td>0.0</td>\n      <td>0.0</td>\n      <td>2</td>\n      <td>spiral</td>\n    </tr>\n    <tr>\n      <th>4455</th>\n      <td>PGC0072927</td>\n      <td>25.0</td>\n      <td>4.0</td>\n      <td>2.0</td>\n      <td>1.0</td>\n      <td>5.0</td>\n      <td>2.0</td>\n      <td>5.0</td>\n      <td>21.0</td>\n      <td>16.0</td>\n      <td>...</td>\n      <td>2.0</td>\n      <td>1.0</td>\n      <td>16.0</td>\n      <td>49.0</td>\n      <td>33.0</td>\n      <td>4.0</td>\n      <td>2.0</td>\n      <td>4.0</td>\n      <td>2</td>\n      <td>spiral</td>\n    </tr>\n    <tr>\n      <th>4456</th>\n      <td>PGC0072930</td>\n      <td>3.0</td>\n      <td>0.0</td>\n      <td>0.0</td>\n      <td>0.0</td>\n      <td>0.0</td>\n      <td>0.0</td>\n      <td>5.0</td>\n      <td>36.0</td>\n      <td>1.0</td>\n      <td>...</td>\n      <td>0.0</td>\n      <td>0.0</td>\n      <td>5.0</td>\n      <td>36.0</td>\n      <td>4.0</td>\n      <td>0.0</td>\n      <td>0.0</td>\n      <td>0.0</td>\n      <td>2</td>\n      <td>spiral</td>\n    </tr>\n    <tr>\n      <th>4457</th>\n      <td>PGC0073177</td>\n      <td>9.0</td>\n      <td>0.0</td>\n      <td>0.0</td>\n      <td>0.0</td>\n      <td>0.0</td>\n      <td>0.0</td>\n      <td>19.0</td>\n      <td>25.0</td>\n      <td>2.0</td>\n      <td>...</td>\n      <td>0.0</td>\n      <td>0.0</td>\n      <td>0.0</td>\n      <td>10.0</td>\n      <td>4.0</td>\n      <td>1.0</td>\n      <td>0.0</td>\n      <td>0.0</td>\n      <td>3</td>\n      <td>irregular</td>\n    </tr>\n  </tbody>\n</table>\n<p>4458 rows × 259 columns</p>\n</div>"
     },
     "metadata": {},
     "execution_count": 36
    }
   ],
   "source": [
    "feature_data"
   ]
  },
  {
   "cell_type": "code",
   "execution_count": null,
   "metadata": {},
   "outputs": [],
   "source": []
  }
 ],
 "metadata": {
  "kernelspec": {
   "name": "python388jvsc74a57bd0d498f01e76f35f6ec088f546b2830faa5557302d29e38f9e82fec0cec6a226be",
   "display_name": "Python 3.8.8 64-bit ('galaxyquest': conda)"
  },
  "language_info": {
   "codemirror_mode": {
    "name": "ipython",
    "version": 3
   },
   "file_extension": ".py",
   "mimetype": "text/x-python",
   "name": "python",
   "nbconvert_exporter": "python",
   "pygments_lexer": "ipython3",
   "version": "3.8.8-final"
  }
 },
 "nbformat": 4,
 "nbformat_minor": 5
}