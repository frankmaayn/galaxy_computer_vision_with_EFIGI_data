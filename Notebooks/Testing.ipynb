{
 "cells": [
  {
   "cell_type": "code",
   "execution_count": 6,
   "id": "healthy-necessity",
   "metadata": {},
   "outputs": [],
   "source": [
    "import sys\n",
    "sys.path.append(\"../../galaxy_computer_vision_with_EFIGI_data\")"
   ]
  },
  {
   "cell_type": "code",
   "execution_count": 9,
   "id": "coated-ratio",
   "metadata": {},
   "outputs": [],
   "source": [
    "import pandas as pd\n",
    "feature_data = pd.read_csv(\"../datasets/EFIGI_SIFT_feature_data.csv\")\n"
   ]
  },
  {
   "cell_type": "code",
   "execution_count": 19,
   "metadata": {},
   "outputs": [
    {
     "output_type": "error",
     "ename": "KeyError",
     "evalue": "'SIFT_256'",
     "traceback": [
      "\u001b[1;31m---------------------------------------------------------------------------\u001b[0m",
      "\u001b[1;31mKeyError\u001b[0m                                  Traceback (most recent call last)",
      "\u001b[1;32m~\\anaconda3\\envs\\galaxyquest\\lib\\site-packages\\pandas\\core\\indexes\\base.py\u001b[0m in \u001b[0;36mget_loc\u001b[1;34m(self, key, method, tolerance)\u001b[0m\n\u001b[0;32m   3079\u001b[0m             \u001b[1;32mtry\u001b[0m\u001b[1;33m:\u001b[0m\u001b[1;33m\u001b[0m\u001b[1;33m\u001b[0m\u001b[0m\n\u001b[1;32m-> 3080\u001b[1;33m                 \u001b[1;32mreturn\u001b[0m \u001b[0mself\u001b[0m\u001b[1;33m.\u001b[0m\u001b[0m_engine\u001b[0m\u001b[1;33m.\u001b[0m\u001b[0mget_loc\u001b[0m\u001b[1;33m(\u001b[0m\u001b[0mcasted_key\u001b[0m\u001b[1;33m)\u001b[0m\u001b[1;33m\u001b[0m\u001b[1;33m\u001b[0m\u001b[0m\n\u001b[0m\u001b[0;32m   3081\u001b[0m             \u001b[1;32mexcept\u001b[0m \u001b[0mKeyError\u001b[0m \u001b[1;32mas\u001b[0m \u001b[0merr\u001b[0m\u001b[1;33m:\u001b[0m\u001b[1;33m\u001b[0m\u001b[1;33m\u001b[0m\u001b[0m\n",
      "\u001b[1;32mpandas\\_libs\\index.pyx\u001b[0m in \u001b[0;36mpandas._libs.index.IndexEngine.get_loc\u001b[1;34m()\u001b[0m\n",
      "\u001b[1;32mpandas\\_libs\\index.pyx\u001b[0m in \u001b[0;36mpandas._libs.index.IndexEngine.get_loc\u001b[1;34m()\u001b[0m\n",
      "\u001b[1;32mpandas\\_libs\\hashtable_class_helper.pxi\u001b[0m in \u001b[0;36mpandas._libs.hashtable.PyObjectHashTable.get_item\u001b[1;34m()\u001b[0m\n",
      "\u001b[1;32mpandas\\_libs\\hashtable_class_helper.pxi\u001b[0m in \u001b[0;36mpandas._libs.hashtable.PyObjectHashTable.get_item\u001b[1;34m()\u001b[0m\n",
      "\u001b[1;31mKeyError\u001b[0m: 'SIFT_256'",
      "\nThe above exception was the direct cause of the following exception:\n",
      "\u001b[1;31mKeyError\u001b[0m                                  Traceback (most recent call last)",
      "\u001b[1;32m<ipython-input-19-a8084dcfa69e>\u001b[0m in \u001b[0;36m<module>\u001b[1;34m\u001b[0m\n\u001b[0;32m      2\u001b[0m \u001b[0msift_labels\u001b[0m \u001b[1;33m=\u001b[0m \u001b[1;33m[\u001b[0m\u001b[1;34m\"SIFT_\"\u001b[0m \u001b[1;33m+\u001b[0m \u001b[0mstr\u001b[0m\u001b[1;33m(\u001b[0m\u001b[0mi\u001b[0m\u001b[1;33m)\u001b[0m \u001b[1;32mfor\u001b[0m \u001b[0mi\u001b[0m \u001b[1;32min\u001b[0m \u001b[0mrange\u001b[0m\u001b[1;33m(\u001b[0m\u001b[0mnum_sift_features\u001b[0m\u001b[1;33m)\u001b[0m\u001b[1;33m]\u001b[0m\u001b[1;33m\u001b[0m\u001b[1;33m\u001b[0m\u001b[0m\n\u001b[0;32m      3\u001b[0m \u001b[0mfeature_data\u001b[0m\u001b[1;33m[\u001b[0m\u001b[0msift_labels\u001b[0m\u001b[1;33m]\u001b[0m\u001b[1;33m\u001b[0m\u001b[1;33m\u001b[0m\u001b[0m\n\u001b[1;32m----> 4\u001b[1;33m \u001b[0mfeature_data\u001b[0m\u001b[1;33m[\u001b[0m\u001b[1;34m\"SIFT_256\"\u001b[0m\u001b[1;33m]\u001b[0m\u001b[1;33m\u001b[0m\u001b[1;33m\u001b[0m\u001b[0m\n\u001b[0m",
      "\u001b[1;32m~\\anaconda3\\envs\\galaxyquest\\lib\\site-packages\\pandas\\core\\frame.py\u001b[0m in \u001b[0;36m__getitem__\u001b[1;34m(self, key)\u001b[0m\n\u001b[0;32m   3022\u001b[0m             \u001b[1;32mif\u001b[0m \u001b[0mself\u001b[0m\u001b[1;33m.\u001b[0m\u001b[0mcolumns\u001b[0m\u001b[1;33m.\u001b[0m\u001b[0mnlevels\u001b[0m \u001b[1;33m>\u001b[0m \u001b[1;36m1\u001b[0m\u001b[1;33m:\u001b[0m\u001b[1;33m\u001b[0m\u001b[1;33m\u001b[0m\u001b[0m\n\u001b[0;32m   3023\u001b[0m                 \u001b[1;32mreturn\u001b[0m \u001b[0mself\u001b[0m\u001b[1;33m.\u001b[0m\u001b[0m_getitem_multilevel\u001b[0m\u001b[1;33m(\u001b[0m\u001b[0mkey\u001b[0m\u001b[1;33m)\u001b[0m\u001b[1;33m\u001b[0m\u001b[1;33m\u001b[0m\u001b[0m\n\u001b[1;32m-> 3024\u001b[1;33m             \u001b[0mindexer\u001b[0m \u001b[1;33m=\u001b[0m \u001b[0mself\u001b[0m\u001b[1;33m.\u001b[0m\u001b[0mcolumns\u001b[0m\u001b[1;33m.\u001b[0m\u001b[0mget_loc\u001b[0m\u001b[1;33m(\u001b[0m\u001b[0mkey\u001b[0m\u001b[1;33m)\u001b[0m\u001b[1;33m\u001b[0m\u001b[1;33m\u001b[0m\u001b[0m\n\u001b[0m\u001b[0;32m   3025\u001b[0m             \u001b[1;32mif\u001b[0m \u001b[0mis_integer\u001b[0m\u001b[1;33m(\u001b[0m\u001b[0mindexer\u001b[0m\u001b[1;33m)\u001b[0m\u001b[1;33m:\u001b[0m\u001b[1;33m\u001b[0m\u001b[1;33m\u001b[0m\u001b[0m\n\u001b[0;32m   3026\u001b[0m                 \u001b[0mindexer\u001b[0m \u001b[1;33m=\u001b[0m \u001b[1;33m[\u001b[0m\u001b[0mindexer\u001b[0m\u001b[1;33m]\u001b[0m\u001b[1;33m\u001b[0m\u001b[1;33m\u001b[0m\u001b[0m\n",
      "\u001b[1;32m~\\anaconda3\\envs\\galaxyquest\\lib\\site-packages\\pandas\\core\\indexes\\base.py\u001b[0m in \u001b[0;36mget_loc\u001b[1;34m(self, key, method, tolerance)\u001b[0m\n\u001b[0;32m   3080\u001b[0m                 \u001b[1;32mreturn\u001b[0m \u001b[0mself\u001b[0m\u001b[1;33m.\u001b[0m\u001b[0m_engine\u001b[0m\u001b[1;33m.\u001b[0m\u001b[0mget_loc\u001b[0m\u001b[1;33m(\u001b[0m\u001b[0mcasted_key\u001b[0m\u001b[1;33m)\u001b[0m\u001b[1;33m\u001b[0m\u001b[1;33m\u001b[0m\u001b[0m\n\u001b[0;32m   3081\u001b[0m             \u001b[1;32mexcept\u001b[0m \u001b[0mKeyError\u001b[0m \u001b[1;32mas\u001b[0m \u001b[0merr\u001b[0m\u001b[1;33m:\u001b[0m\u001b[1;33m\u001b[0m\u001b[1;33m\u001b[0m\u001b[0m\n\u001b[1;32m-> 3082\u001b[1;33m                 \u001b[1;32mraise\u001b[0m \u001b[0mKeyError\u001b[0m\u001b[1;33m(\u001b[0m\u001b[0mkey\u001b[0m\u001b[1;33m)\u001b[0m \u001b[1;32mfrom\u001b[0m \u001b[0merr\u001b[0m\u001b[1;33m\u001b[0m\u001b[1;33m\u001b[0m\u001b[0m\n\u001b[0m\u001b[0;32m   3083\u001b[0m \u001b[1;33m\u001b[0m\u001b[0m\n\u001b[0;32m   3084\u001b[0m         \u001b[1;32mif\u001b[0m \u001b[0mtolerance\u001b[0m \u001b[1;32mis\u001b[0m \u001b[1;32mnot\u001b[0m \u001b[1;32mNone\u001b[0m\u001b[1;33m:\u001b[0m\u001b[1;33m\u001b[0m\u001b[1;33m\u001b[0m\u001b[0m\n",
      "\u001b[1;31mKeyError\u001b[0m: 'SIFT_256'"
     ]
    }
   ],
   "source": [
    "num_sift_features = 256\n",
    "sift_labels = [\"SIFT_\" + str(i) for i in range(num_sift_features)]\n",
    "feature_data[sift_labels]"
   ]
  },
  {
   "cell_type": "code",
   "execution_count": 2,
   "metadata": {},
   "outputs": [],
   "source": [
    "import cv2\n",
    "image = cv2.imread(r\"C:\\Users\\dpale\\Desktop\\Projects\\galaxy_computer_vision_with_EFIGI_data\\threshold_image\\PGC0071926.png\")\n",
    "\n",
    "sift = cv2.SIFT_create(2)\n",
    "kp, descriptions = sift.detectAndCompute(image, None)"
   ]
  },
  {
   "cell_type": "code",
   "execution_count": 8,
   "metadata": {},
   "outputs": [
    {
     "output_type": "execute_result",
     "data": {
      "text/plain": [
       "[]"
      ]
     },
     "metadata": {},
     "execution_count": 8
    }
   ],
   "source": [
    "kp"
   ]
  },
  {
   "cell_type": "code",
   "execution_count": 6,
   "metadata": {},
   "outputs": [
    {
     "output_type": "execute_result",
     "data": {
      "text/plain": [
       "<matplotlib.image.AxesImage at 0x20005fa59d0>"
      ]
     },
     "metadata": {},
     "execution_count": 6
    },
    {
     "output_type": "display_data",
     "data": {
      "text/plain": "<Figure size 432x288 with 1 Axes>",
      "image/svg+xml": "<?xml version=\"1.0\" encoding=\"utf-8\" standalone=\"no\"?>\r\n<!DOCTYPE svg PUBLIC \"-//W3C//DTD SVG 1.1//EN\"\r\n  \"http://www.w3.org/Graphics/SVG/1.1/DTD/svg11.dtd\">\r\n<!-- Created with matplotlib (https://matplotlib.org/) -->\r\n<svg height=\"251.890991pt\" version=\"1.1\" viewBox=\"0 0 263.634074 251.890991\" width=\"263.634074pt\" xmlns=\"http://www.w3.org/2000/svg\" xmlns:xlink=\"http://www.w3.org/1999/xlink\">\r\n <metadata>\r\n  <rdf:RDF xmlns:cc=\"http://creativecommons.org/ns#\" xmlns:dc=\"http://purl.org/dc/elements/1.1/\" xmlns:rdf=\"http://www.w3.org/1999/02/22-rdf-syntax-ns#\">\r\n   <cc:Work>\r\n    <dc:type rdf:resource=\"http://purl.org/dc/dcmitype/StillImage\"/>\r\n    <dc:date>2021-04-15T21:26:30.567773</dc:date>\r\n    <dc:format>image/svg+xml</dc:format>\r\n    <dc:creator>\r\n     <cc:Agent>\r\n      <dc:title>Matplotlib v3.3.4, https://matplotlib.org/</dc:title>\r\n     </cc:Agent>\r\n    </dc:creator>\r\n   </cc:Work>\r\n  </rdf:RDF>\r\n </metadata>\r\n <defs>\r\n  <style type=\"text/css\">*{stroke-linecap:butt;stroke-linejoin:round;}</style>\r\n </defs>\r\n <g id=\"figure_1\">\r\n  <g id=\"patch_1\">\r\n   <path d=\"M 0 251.890991 \r\nL 263.634074 251.890991 \r\nL 263.634074 0 \r\nL 0 0 \r\nz\r\n\" style=\"fill:none;\"/>\r\n  </g>\r\n  <g id=\"axes_1\">\r\n   <g id=\"patch_2\">\r\n    <path d=\"M 33.2875 228.012866 \r\nL 250.7275 228.012866 \r\nL 250.7275 10.572866 \r\nL 33.2875 10.572866 \r\nz\r\n\" style=\"fill:#ffffff;\"/>\r\n   </g>\r\n   <g clip-path=\"url(#pcb3d55ac0a)\">\r\n    <image height=\"218\" id=\"image707baf1c2e\" transform=\"scale(1 -1)translate(0 -218)\" width=\"218\" x=\"33.2875\" xlink:href=\"data:image/png;base64,\r\niVBORw0KGgoAAAANSUhEUgAAANoAAADaCAYAAADAHVzbAAAFDElEQVR4nO3dMWicdRzG8edimlaJJQoidBAECYijgqKi0kWLRdx1UrCDBbspuAiCDiKIIl3qIkJBHVyLKE5F3NRFVASLdig4iAqmUs6hIg4xNSb3vPdePh94IVnufgnv9/7v+96byyTJNMBMLQ09AOwFQoMCoUGB0KBAaFAgNCgQGhQIDQqEBgVCgwKhXcFkMsnSkl8TO2MPuoLDhw/nxIkTQ4/ByE3ipmKYOSsaFAgNCoQGBUKDAqFBgdCgQGhQIDQoEBoUCA0KFjS05SQ3DT0E/G1BQzuY5Kmhh4C/uakYChZ0RYP5IjQoEBoUCA0KhAYFQoMCoUGB0KBAaAxkdegBqoTGQN7PXtr93IIFBXvnJQUGJDQoEBoUzDa0tbXk4MGZPgWMwWxDO3cuOXt2pk8BY7A800c/fTr56aeZPgWMgcv7UOBiCBQIbS9ZWUk++i7JqaEn2XOEtpdcnCQPria5euhJ9hznaGzDepLrknwWu832CI1t+CDJI0muSfL7sKOMzGwv77NgTiX5OMkfQw8yOlY0KHAxBAqEBgVCgwKhQYHQoEBoUCA0KBAaFAgNCoQGBUKDAqFBwejv3p8kuWpy+etLU3dIM59Gv6LdvT/ZeHY1G8/flHv37x96HNjU6EPLHcnSy49l6cUzmdy5PvQ0sKnRHzr++GPy4aufZylP5ocfvhx6HNjUQvzh53ouL81fDT0I/IuFCA3m3fjP0WAEhAYFQoMCoUGB0KDgyqE9/nhy9GhhFFhcW75h/UCSh969Ps9Pp7nUmQcW0pahXUzy6MXX82kuf+o68P94wxoKXAyBgl0KbSXJa7vzULCAdunQcZLkliTf7PyhYAE5R4MC52hQILQ5ciTJw0MPwUw4dJwj3yc5kOTGoQdh143+owwWybE4xFhUVjQo8AIKBUKDAqFBgdCgQGhQIDQoEBoUCA0KhAYFQoMCoUGB0KBAaFAgNCgQGhQIDQqEBgVCgwKhQYHQoEBoUCA0KBAaFAgNCoQGBUKDAqFBgdCgQGhQIDQoEBoUCA0KhAYFQoMCoUGB0KBAaFAgNCgQGhQIbVteSnJg6CEYIaFty9Eky0MPwQhNkkyHHmI8VpP8OvQQjJDQoMChIxQIDQqEBgVCgwKhbeJAkm+GHoKFIrRNvBMX8dldLu9DgRUNCoQGBUKDAqEx5/ZnEXbT8f8ELLjnktw29BA75qojFFjRoEBoUCA0KBAaFAgNCoQGBUKDAqFBgdCgQGhQIDQoEBoUCA0KhAYFQoMCoUGB0KBAaFAgNCgQGhQIDQqEBgVCgwKhQYHQ2Lnjx5OTJ5Pl5aEnmVtCY8deOXIkh44dS5bsTv/GR4KzY2tra/llZSWXLlwYepS5JTQosNZDgdCgQGhQIDQoEBoUCA0KhAYFQoMCocGMvRF3hsDMnT9zxooGs7axvm5FgwYrGhQIDQqEBgVCgwKhQYHQoEBoUCA0KBAaFAgNCoQGBUKDAqFBgdCgQGhQIDQoEBoUCA0KhAYFQoMCoUGB0KBAaFAgNCgQGhQIDQqEBgWjD20y9ADwH4w6tFsnycYNyVuryYGhh4EtjDa025N88dC+7LtwV554++a8eGNy7dBDwRamY9zOTTKdXnxmetkn0+nTt07vm4O5bLbNttGuaC8kuZSr//puOe9lOd8OOA9sZbT/iHCSZOP+fdk3uSfJ+Rz/+uu8eX7oqWBzow0tSQ794+ufk/w21CBwBX8Ci9JUWP5AFP8AAAAASUVORK5CYII=\" y=\"-10.012866\"/>\r\n   </g>\r\n   <g id=\"matplotlib.axis_1\">\r\n    <g id=\"xtick_1\">\r\n     <g id=\"line2d_1\">\r\n      <defs>\r\n       <path d=\"M 0 0 \r\nL 0 3.5 \r\n\" id=\"ma83c84c816\" style=\"stroke:#000000;stroke-width:0.8;\"/>\r\n      </defs>\r\n      <g>\r\n       <use style=\"stroke:#000000;stroke-width:0.8;\" x=\"33.713853\" xlink:href=\"#ma83c84c816\" y=\"228.012866\"/>\r\n      </g>\r\n     </g>\r\n     <g id=\"text_1\">\r\n      <!-- 0 -->\r\n      <g transform=\"translate(30.532603 242.611303)scale(0.1 -0.1)\">\r\n       <defs>\r\n        <path d=\"M 31.78125 66.40625 \r\nQ 24.171875 66.40625 20.328125 58.90625 \r\nQ 16.5 51.421875 16.5 36.375 \r\nQ 16.5 21.390625 20.328125 13.890625 \r\nQ 24.171875 6.390625 31.78125 6.390625 \r\nQ 39.453125 6.390625 43.28125 13.890625 \r\nQ 47.125 21.390625 47.125 36.375 \r\nQ 47.125 51.421875 43.28125 58.90625 \r\nQ 39.453125 66.40625 31.78125 66.40625 \r\nz\r\nM 31.78125 74.21875 \r\nQ 44.046875 74.21875 50.515625 64.515625 \r\nQ 56.984375 54.828125 56.984375 36.375 \r\nQ 56.984375 17.96875 50.515625 8.265625 \r\nQ 44.046875 -1.421875 31.78125 -1.421875 \r\nQ 19.53125 -1.421875 13.0625 8.265625 \r\nQ 6.59375 17.96875 6.59375 36.375 \r\nQ 6.59375 54.828125 13.0625 64.515625 \r\nQ 19.53125 74.21875 31.78125 74.21875 \r\nz\r\n\" id=\"DejaVuSans-48\"/>\r\n       </defs>\r\n       <use xlink:href=\"#DejaVuSans-48\"/>\r\n      </g>\r\n     </g>\r\n    </g>\r\n    <g id=\"xtick_2\">\r\n     <g id=\"line2d_2\">\r\n      <g>\r\n       <use style=\"stroke:#000000;stroke-width:0.8;\" x=\"76.349147\" xlink:href=\"#ma83c84c816\" y=\"228.012866\"/>\r\n      </g>\r\n     </g>\r\n     <g id=\"text_2\">\r\n      <!-- 50 -->\r\n      <g transform=\"translate(69.986647 242.611303)scale(0.1 -0.1)\">\r\n       <defs>\r\n        <path d=\"M 10.796875 72.90625 \r\nL 49.515625 72.90625 \r\nL 49.515625 64.59375 \r\nL 19.828125 64.59375 \r\nL 19.828125 46.734375 \r\nQ 21.96875 47.46875 24.109375 47.828125 \r\nQ 26.265625 48.1875 28.421875 48.1875 \r\nQ 40.625 48.1875 47.75 41.5 \r\nQ 54.890625 34.8125 54.890625 23.390625 \r\nQ 54.890625 11.625 47.5625 5.09375 \r\nQ 40.234375 -1.421875 26.90625 -1.421875 \r\nQ 22.3125 -1.421875 17.546875 -0.640625 \r\nQ 12.796875 0.140625 7.71875 1.703125 \r\nL 7.71875 11.625 \r\nQ 12.109375 9.234375 16.796875 8.0625 \r\nQ 21.484375 6.890625 26.703125 6.890625 \r\nQ 35.15625 6.890625 40.078125 11.328125 \r\nQ 45.015625 15.765625 45.015625 23.390625 \r\nQ 45.015625 31 40.078125 35.4375 \r\nQ 35.15625 39.890625 26.703125 39.890625 \r\nQ 22.75 39.890625 18.8125 39.015625 \r\nQ 14.890625 38.140625 10.796875 36.28125 \r\nz\r\n\" id=\"DejaVuSans-53\"/>\r\n       </defs>\r\n       <use xlink:href=\"#DejaVuSans-53\"/>\r\n       <use x=\"63.623047\" xlink:href=\"#DejaVuSans-48\"/>\r\n      </g>\r\n     </g>\r\n    </g>\r\n    <g id=\"xtick_3\">\r\n     <g id=\"line2d_3\">\r\n      <g>\r\n       <use style=\"stroke:#000000;stroke-width:0.8;\" x=\"118.984441\" xlink:href=\"#ma83c84c816\" y=\"228.012866\"/>\r\n      </g>\r\n     </g>\r\n     <g id=\"text_3\">\r\n      <!-- 100 -->\r\n      <g transform=\"translate(109.440691 242.611303)scale(0.1 -0.1)\">\r\n       <defs>\r\n        <path d=\"M 12.40625 8.296875 \r\nL 28.515625 8.296875 \r\nL 28.515625 63.921875 \r\nL 10.984375 60.40625 \r\nL 10.984375 69.390625 \r\nL 28.421875 72.90625 \r\nL 38.28125 72.90625 \r\nL 38.28125 8.296875 \r\nL 54.390625 8.296875 \r\nL 54.390625 0 \r\nL 12.40625 0 \r\nz\r\n\" id=\"DejaVuSans-49\"/>\r\n       </defs>\r\n       <use xlink:href=\"#DejaVuSans-49\"/>\r\n       <use x=\"63.623047\" xlink:href=\"#DejaVuSans-48\"/>\r\n       <use x=\"127.246094\" xlink:href=\"#DejaVuSans-48\"/>\r\n      </g>\r\n     </g>\r\n    </g>\r\n    <g id=\"xtick_4\">\r\n     <g id=\"line2d_4\">\r\n      <g>\r\n       <use style=\"stroke:#000000;stroke-width:0.8;\" x=\"161.619735\" xlink:href=\"#ma83c84c816\" y=\"228.012866\"/>\r\n      </g>\r\n     </g>\r\n     <g id=\"text_4\">\r\n      <!-- 150 -->\r\n      <g transform=\"translate(152.075985 242.611303)scale(0.1 -0.1)\">\r\n       <use xlink:href=\"#DejaVuSans-49\"/>\r\n       <use x=\"63.623047\" xlink:href=\"#DejaVuSans-53\"/>\r\n       <use x=\"127.246094\" xlink:href=\"#DejaVuSans-48\"/>\r\n      </g>\r\n     </g>\r\n    </g>\r\n    <g id=\"xtick_5\">\r\n     <g id=\"line2d_5\">\r\n      <g>\r\n       <use style=\"stroke:#000000;stroke-width:0.8;\" x=\"204.255029\" xlink:href=\"#ma83c84c816\" y=\"228.012866\"/>\r\n      </g>\r\n     </g>\r\n     <g id=\"text_5\">\r\n      <!-- 200 -->\r\n      <g transform=\"translate(194.711279 242.611303)scale(0.1 -0.1)\">\r\n       <defs>\r\n        <path d=\"M 19.1875 8.296875 \r\nL 53.609375 8.296875 \r\nL 53.609375 0 \r\nL 7.328125 0 \r\nL 7.328125 8.296875 \r\nQ 12.9375 14.109375 22.625 23.890625 \r\nQ 32.328125 33.6875 34.8125 36.53125 \r\nQ 39.546875 41.84375 41.421875 45.53125 \r\nQ 43.3125 49.21875 43.3125 52.78125 \r\nQ 43.3125 58.59375 39.234375 62.25 \r\nQ 35.15625 65.921875 28.609375 65.921875 \r\nQ 23.96875 65.921875 18.8125 64.3125 \r\nQ 13.671875 62.703125 7.8125 59.421875 \r\nL 7.8125 69.390625 \r\nQ 13.765625 71.78125 18.9375 73 \r\nQ 24.125 74.21875 28.421875 74.21875 \r\nQ 39.75 74.21875 46.484375 68.546875 \r\nQ 53.21875 62.890625 53.21875 53.421875 \r\nQ 53.21875 48.921875 51.53125 44.890625 \r\nQ 49.859375 40.875 45.40625 35.40625 \r\nQ 44.1875 33.984375 37.640625 27.21875 \r\nQ 31.109375 20.453125 19.1875 8.296875 \r\nz\r\n\" id=\"DejaVuSans-50\"/>\r\n       </defs>\r\n       <use xlink:href=\"#DejaVuSans-50\"/>\r\n       <use x=\"63.623047\" xlink:href=\"#DejaVuSans-48\"/>\r\n       <use x=\"127.246094\" xlink:href=\"#DejaVuSans-48\"/>\r\n      </g>\r\n     </g>\r\n    </g>\r\n    <g id=\"xtick_6\">\r\n     <g id=\"line2d_6\">\r\n      <g>\r\n       <use style=\"stroke:#000000;stroke-width:0.8;\" x=\"246.890324\" xlink:href=\"#ma83c84c816\" y=\"228.012866\"/>\r\n      </g>\r\n     </g>\r\n     <g id=\"text_6\">\r\n      <!-- 250 -->\r\n      <g transform=\"translate(237.346574 242.611303)scale(0.1 -0.1)\">\r\n       <use xlink:href=\"#DejaVuSans-50\"/>\r\n       <use x=\"63.623047\" xlink:href=\"#DejaVuSans-53\"/>\r\n       <use x=\"127.246094\" xlink:href=\"#DejaVuSans-48\"/>\r\n      </g>\r\n     </g>\r\n    </g>\r\n   </g>\r\n   <g id=\"matplotlib.axis_2\">\r\n    <g id=\"ytick_1\">\r\n     <g id=\"line2d_7\">\r\n      <defs>\r\n       <path d=\"M 0 0 \r\nL -3.5 0 \r\n\" id=\"m9457a0293a\" style=\"stroke:#000000;stroke-width:0.8;\"/>\r\n      </defs>\r\n      <g>\r\n       <use style=\"stroke:#000000;stroke-width:0.8;\" x=\"33.2875\" xlink:href=\"#m9457a0293a\" y=\"10.999219\"/>\r\n      </g>\r\n     </g>\r\n     <g id=\"text_7\">\r\n      <!-- 0 -->\r\n      <g transform=\"translate(19.925 14.798437)scale(0.1 -0.1)\">\r\n       <use xlink:href=\"#DejaVuSans-48\"/>\r\n      </g>\r\n     </g>\r\n    </g>\r\n    <g id=\"ytick_2\">\r\n     <g id=\"line2d_8\">\r\n      <g>\r\n       <use style=\"stroke:#000000;stroke-width:0.8;\" x=\"33.2875\" xlink:href=\"#m9457a0293a\" y=\"53.634513\"/>\r\n      </g>\r\n     </g>\r\n     <g id=\"text_8\">\r\n      <!-- 50 -->\r\n      <g transform=\"translate(13.5625 57.433732)scale(0.1 -0.1)\">\r\n       <use xlink:href=\"#DejaVuSans-53\"/>\r\n       <use x=\"63.623047\" xlink:href=\"#DejaVuSans-48\"/>\r\n      </g>\r\n     </g>\r\n    </g>\r\n    <g id=\"ytick_3\">\r\n     <g id=\"line2d_9\">\r\n      <g>\r\n       <use style=\"stroke:#000000;stroke-width:0.8;\" x=\"33.2875\" xlink:href=\"#m9457a0293a\" y=\"96.269807\"/>\r\n      </g>\r\n     </g>\r\n     <g id=\"text_9\">\r\n      <!-- 100 -->\r\n      <g transform=\"translate(7.2 100.069026)scale(0.1 -0.1)\">\r\n       <use xlink:href=\"#DejaVuSans-49\"/>\r\n       <use x=\"63.623047\" xlink:href=\"#DejaVuSans-48\"/>\r\n       <use x=\"127.246094\" xlink:href=\"#DejaVuSans-48\"/>\r\n      </g>\r\n     </g>\r\n    </g>\r\n    <g id=\"ytick_4\">\r\n     <g id=\"line2d_10\">\r\n      <g>\r\n       <use style=\"stroke:#000000;stroke-width:0.8;\" x=\"33.2875\" xlink:href=\"#m9457a0293a\" y=\"138.905101\"/>\r\n      </g>\r\n     </g>\r\n     <g id=\"text_10\">\r\n      <!-- 150 -->\r\n      <g transform=\"translate(7.2 142.70432)scale(0.1 -0.1)\">\r\n       <use xlink:href=\"#DejaVuSans-49\"/>\r\n       <use x=\"63.623047\" xlink:href=\"#DejaVuSans-53\"/>\r\n       <use x=\"127.246094\" xlink:href=\"#DejaVuSans-48\"/>\r\n      </g>\r\n     </g>\r\n    </g>\r\n    <g id=\"ytick_5\">\r\n     <g id=\"line2d_11\">\r\n      <g>\r\n       <use style=\"stroke:#000000;stroke-width:0.8;\" x=\"33.2875\" xlink:href=\"#m9457a0293a\" y=\"181.540395\"/>\r\n      </g>\r\n     </g>\r\n     <g id=\"text_11\">\r\n      <!-- 200 -->\r\n      <g transform=\"translate(7.2 185.339614)scale(0.1 -0.1)\">\r\n       <use xlink:href=\"#DejaVuSans-50\"/>\r\n       <use x=\"63.623047\" xlink:href=\"#DejaVuSans-48\"/>\r\n       <use x=\"127.246094\" xlink:href=\"#DejaVuSans-48\"/>\r\n      </g>\r\n     </g>\r\n    </g>\r\n    <g id=\"ytick_6\">\r\n     <g id=\"line2d_12\">\r\n      <g>\r\n       <use style=\"stroke:#000000;stroke-width:0.8;\" x=\"33.2875\" xlink:href=\"#m9457a0293a\" y=\"224.175689\"/>\r\n      </g>\r\n     </g>\r\n     <g id=\"text_12\">\r\n      <!-- 250 -->\r\n      <g transform=\"translate(7.2 227.974908)scale(0.1 -0.1)\">\r\n       <use xlink:href=\"#DejaVuSans-50\"/>\r\n       <use x=\"63.623047\" xlink:href=\"#DejaVuSans-53\"/>\r\n       <use x=\"127.246094\" xlink:href=\"#DejaVuSans-48\"/>\r\n      </g>\r\n     </g>\r\n    </g>\r\n   </g>\r\n   <g id=\"patch_3\">\r\n    <path d=\"M 33.2875 228.012866 \r\nL 33.2875 10.572866 \r\n\" style=\"fill:none;stroke:#000000;stroke-linecap:square;stroke-linejoin:miter;stroke-width:0.8;\"/>\r\n   </g>\r\n   <g id=\"patch_4\">\r\n    <path d=\"M 250.7275 228.012866 \r\nL 250.7275 10.572866 \r\n\" style=\"fill:none;stroke:#000000;stroke-linecap:square;stroke-linejoin:miter;stroke-width:0.8;\"/>\r\n   </g>\r\n   <g id=\"patch_5\">\r\n    <path d=\"M 33.2875 228.012866 \r\nL 250.7275 228.012866 \r\n\" style=\"fill:none;stroke:#000000;stroke-linecap:square;stroke-linejoin:miter;stroke-width:0.8;\"/>\r\n   </g>\r\n   <g id=\"patch_6\">\r\n    <path d=\"M 33.2875 10.572866 \r\nL 250.7275 10.572866 \r\n\" style=\"fill:none;stroke:#000000;stroke-linecap:square;stroke-linejoin:miter;stroke-width:0.8;\"/>\r\n   </g>\r\n  </g>\r\n </g>\r\n <defs>\r\n  <clipPath id=\"pcb3d55ac0a\">\r\n   <rect height=\"217.44\" width=\"217.44\" x=\"33.2875\" y=\"10.572866\"/>\r\n  </clipPath>\r\n </defs>\r\n</svg>\r\n",
      "image/png": "[encoded data removed]"
     },
     "metadata": {
      "needs_background": "light"
     }
    }
   ],
   "source": [
    "import matplotlib.pyplot as plt\n",
    "plt.imshow(image)"
   ]
  },
  {
   "cell_type": "code",
   "execution_count": 25,
   "metadata": {},
   "outputs": [
    {
     "output_type": "execute_result",
     "data": {
      "text/plain": [
       "'spiral'"
      ]
     },
     "metadata": {},
     "execution_count": 25
    }
   ],
   "source": [
    "import pandas as pd\n",
    "label_dataframe = pd.read_csv(r\"C:\\Users\\dpale\\Desktop\\Projects\\galaxy_computer_vision_with_EFIGI_data\\datasets\\EFIGI_labels.csv\")\n",
    "label_dataframe[label_dataframe[\"PGCname\"] == \"PGC0000212\"][\"category_label_names\"][0]\n",
    "label_dataframe.loc[label_dataframe[\"PGCname\"] == \"PGC0000212\", \"category_label_names\"][0]"
   ]
  },
  {
   "cell_type": "code",
   "execution_count": 32,
   "metadata": {},
   "outputs": [
    {
     "output_type": "execute_result",
     "data": {
      "text/plain": [
       "'PGC0000212'"
      ]
     },
     "metadata": {},
     "execution_count": 32
    }
   ],
   "source": [
    "label_dataframe.iloc[0][\"PGCname\"]"
   ]
  },
  {
   "cell_type": "code",
   "execution_count": 43,
   "metadata": {},
   "outputs": [
    {
     "output_type": "execute_result",
     "data": {
      "text/plain": [
       "['spiral', 'lenticular', 'spiral']"
      ]
     },
     "metadata": {},
     "execution_count": 43
    }
   ],
   "source": [
    "list(label_dataframe.loc[[1,2,3],\"category_label_names\"])"
   ]
  },
  {
   "cell_type": "code",
   "execution_count": 3,
   "metadata": {},
   "outputs": [],
   "source": [
    "import pickle\n",
    "with open(\"../model_data/cnn_eval.p\", \"rb\") as f:\n",
    "    eval_data = pickle.load(f)"
   ]
  },
  {
   "cell_type": "code",
   "execution_count": 19,
   "metadata": {},
   "outputs": [
    {
     "output_type": "stream",
     "name": "stdout",
     "text": [
      "epoch_acc\nepoch_loss\npredicted_labels\nprediction_probabilities\nground_truth_labels\n"
     ]
    }
   ],
   "source": [
    "for key, value in eval_data.items():\n",
    "    print(key)"
   ]
  },
  {
   "cell_type": "code",
   "execution_count": 112,
   "metadata": {
    "tags": []
   },
   "outputs": [
    {
     "output_type": "execute_result",
     "data": {
      "text/plain": [
       "[0.64,\n",
       " 0.5333333333333333,\n",
       " 0.92,\n",
       " 0.8133333333333334,\n",
       " 0.6933333333333334,\n",
       " 0.8666666666666667,\n",
       " 0.8266666666666667,\n",
       " 0.8,\n",
       " 0.8266666666666667,\n",
       " 0.88,\n",
       " 0.8133333333333334,\n",
       " 0.8266666666666667,\n",
       " 0.84,\n",
       " 0.7866666666666666,\n",
       " 0.8133333333333334,\n",
       " 0.8266666666666667,\n",
       " 0.84,\n",
       " 0.8266666666666667,\n",
       " 0.8266666666666667,\n",
       " 0.8266666666666667,\n",
       " 0.8266666666666667,\n",
       " 0.8266666666666667,\n",
       " 0.8266666666666667,\n",
       " 0.8266666666666667,\n",
       " 0.8266666666666667,\n",
       " 0.8266666666666667,\n",
       " 0.8266666666666667,\n",
       " 0.8266666666666667,\n",
       " 0.8266666666666667,\n",
       " 0.8266666666666667,\n",
       " 0.8266666666666667,\n",
       " 0.8266666666666667,\n",
       " 0.8266666666666667,\n",
       " 0.8266666666666667,\n",
       " 0.8266666666666667,\n",
       " 0.8266666666666667,\n",
       " 0.8266666666666667,\n",
       " 0.8266666666666667,\n",
       " 0.8266666666666667,\n",
       " 0.8266666666666667,\n",
       " 0.8266666666666667,\n",
       " 0.8266666666666667,\n",
       " 0.8266666666666667,\n",
       " 0.8266666666666667,\n",
       " 0.8266666666666667,\n",
       " 0.8266666666666667,\n",
       " 0.8266666666666667,\n",
       " 0.8266666666666667,\n",
       " 0.8266666666666667,\n",
       " 0.8266666666666667,\n",
       " 0.8266666666666667,\n",
       " 0.8266666666666667,\n",
       " 0.8266666666666667,\n",
       " 0.8266666666666667,\n",
       " 0.8266666666666667,\n",
       " 0.8266666666666667,\n",
       " 0.8266666666666667,\n",
       " 0.8266666666666667,\n",
       " 0.8266666666666667,\n",
       " 0.8266666666666667,\n",
       " 0.8266666666666667,\n",
       " 0.8266666666666667,\n",
       " 0.8266666666666667,\n",
       " 0.8266666666666667,\n",
       " 0.8266666666666667,\n",
       " 0.8266666666666667,\n",
       " 0.8266666666666667,\n",
       " 0.8266666666666667,\n",
       " 0.8266666666666667,\n",
       " 0.8266666666666667,\n",
       " 0.8266666666666667,\n",
       " 0.8266666666666667,\n",
       " 0.8266666666666667,\n",
       " 0.8266666666666667,\n",
       " 0.8266666666666667,\n",
       " 0.8266666666666667,\n",
       " 0.8266666666666667,\n",
       " 0.8266666666666667,\n",
       " 0.8266666666666667,\n",
       " 0.8266666666666667,\n",
       " 0.8266666666666667,\n",
       " 0.8266666666666667,\n",
       " 0.8266666666666667,\n",
       " 0.8266666666666667,\n",
       " 0.8266666666666667,\n",
       " 0.8266666666666667,\n",
       " 0.8266666666666667,\n",
       " 0.8266666666666667,\n",
       " 0.8266666666666667,\n",
       " 0.8266666666666667,\n",
       " 0.8266666666666667,\n",
       " 0.8266666666666667,\n",
       " 0.8266666666666667,\n",
       " 0.8266666666666667,\n",
       " 0.8266666666666667,\n",
       " 0.8266666666666667,\n",
       " 0.8266666666666667,\n",
       " 0.8266666666666667,\n",
       " 0.8266666666666667,\n",
       " 0.8266666666666667]"
      ]
     },
     "metadata": {},
     "execution_count": 112
    }
   ],
   "source": [
    "from sklearn.metrics import multilabel_confusion_matrix\n",
    "import numpy as np\n",
    "def get_metrics_by_epoch(y_pred_epochs, y_true_epochs):\n",
    "\n",
    "    # Get number of labels and number of epochjs\n",
    "    num_labels = np.unique(y_pred_epochs).shape[0]\n",
    "    num_epochs = len(y_pred_epochs)\n",
    "\n",
    "    # Initialize the metric dictionary\n",
    "    metric_dict = {\n",
    "        \"epoch_precisions\": [],\n",
    "        \"epoch_recalls\": [],\n",
    "        \"epoch_f1\": []\n",
    "    }\n",
    "\n",
    "    # Fill up the metric dictionary.\n",
    "    # Each metric is a 2d array,\n",
    "    # where the first dimension is the label\n",
    "    # and the second is the epoch.\n",
    "    # Each value represents a metric for the label at that epoch.\n",
    "    for label_index in range(num_labels):\n",
    "        metric_dict[\"epoch_precisions\"].append([])\n",
    "        metric_dict[\"epoch_recalls\"].append([])\n",
    "        metric_dict[\"epoch_f1\"].append([])\n",
    "\n",
    "        for epoch_index in range(num_epochs):\n",
    "            y_pred = y_pred_epochs[epoch_index]\n",
    "            y_true = y_true_epochs[epoch_index]\n",
    "            epoch_confusion_matrix = multilabel_confusion_matrix(y_pred, y_true)\n",
    "\n",
    "            # F1 Scores\n",
    "            f1s = []\n",
    "\n",
    "            recalls = []\n",
    "            # Gather true positives, false positives, false negatives, true negatives\n",
    "            # (tp, fp, fn, tn)\n",
    "            tp = epoch_confusion_matrix[label_index][1][1]\n",
    "            fp = epoch_confusion_matrix[label_index][0][1]\n",
    "            fn = epoch_confusion_matrix[label_index][1][0]\n",
    "            tn = epoch_confusion_matrix[label_index][0][0]\n",
    "            \n",
    "            \n",
    "            # Use them to derive precisions, recalls, accuracies per class\n",
    "            f1 = (tp / (tp + tn + fn + tn))\n",
    "            recall = tp / (tp + fn)\n",
    "            precision = tp / (tp + fp)\n",
    "            metric_dict[\"epoch_precisions\"][label_index].append(precision)\n",
    "            metric_dict[\"epoch_recalls\"][label_index].append(recall)\n",
    "            metric_dict[\"epoch_f1\"][label_index].append(f1)\n",
    "    return metric_dict\n",
    "        \n",
    "\n",
    "epoch_predictions = eval_data[\"predicted_labels\"]\n",
    "epoch_labels = eval_data[\"ground_truth_labels\"]\n",
    "epoch_metrics = get_metrics_by_epoch(epoch_predictions, epoch_labels)\n",
    "\n",
    "epoch_metrics[\"epoch_precisions\"][1]\n"
   ]
  },
  {
   "cell_type": "code",
   "execution_count": 38,
   "metadata": {},
   "outputs": [
    {
     "output_type": "execute_result",
     "data": {
      "text/plain": [
       "array([11, 28], dtype=int64)"
      ]
     },
     "metadata": {},
     "execution_count": 38
    }
   ],
   "source": [
    "\n",
    "\n",
    "y_true = eval_data[\"predicted_labels\"][99]\n",
    "y_pred = eval_data[\"ground_truth_labels\"][99]\n",
    "multilabel_confusion_matrix(y_true, y_pred)[0][1]\n"
   ]
  },
  {
   "cell_type": "code",
   "execution_count": null,
   "metadata": {},
   "outputs": [],
   "source": []
  }
 ],
 "metadata": {
  "kernelspec": {
   "name": "python388jvsc74a57bd0d498f01e76f35f6ec088f546b2830faa5557302d29e38f9e82fec0cec6a226be",
   "display_name": "Python 3.8.8 64-bit ('galaxyquest': conda)"
  },
  "language_info": {
   "codemirror_mode": {
    "name": "ipython",
    "version": 3
   },
   "file_extension": ".py",
   "mimetype": "text/x-python",
   "name": "python",
   "nbconvert_exporter": "python",
   "pygments_lexer": "ipython3",
   "version": "3.8.8"
  }
 },
 "nbformat": 4,
 "nbformat_minor": 5
}