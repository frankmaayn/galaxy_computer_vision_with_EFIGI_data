{
 "cells": [
  {
   "cell_type": "code",
   "execution_count": 1,
   "id": "healthy-necessity",
   "metadata": {},
   "outputs": [],
   "source": [
    "import sys\n",
    "sys.path.append(\"../../galaxy_computer_vision_with_EFIGI_data\")"
   ]
  },
  {
   "cell_type": "code",
   "execution_count": 2,
   "id": "blocked-impossible",
   "metadata": {
    "scrolled": true
   },
   "outputs": [],
   "source": [
    "from galaxyquest.HelloWorld import HelloWorld"
   ]
  },
  {
   "cell_type": "code",
   "execution_count": 3,
   "id": "coated-ratio",
   "metadata": {},
   "outputs": [
    {
     "name": "stdout",
     "output_type": "stream",
     "text": [
      "Hello world\n"
     ]
    }
   ],
   "source": [
    "hello_world_object = HelloWorld()\n",
    "hello_world_object.sayhi()"
   ]
  }
 ],
 "metadata": {
  "kernelspec": {
   "display_name": "Python 3",
   "language": "python",
   "name": "python3"
  },
  "language_info": {
   "codemirror_mode": {
    "name": "ipython",
    "version": 3
   },
   "file_extension": ".py",
   "mimetype": "text/x-python",
   "name": "python",
   "nbconvert_exporter": "python",
   "pygments_lexer": "ipython3",
   "version": "3.8.8"
  }
 },
 "nbformat": 4,
 "nbformat_minor": 5
}
