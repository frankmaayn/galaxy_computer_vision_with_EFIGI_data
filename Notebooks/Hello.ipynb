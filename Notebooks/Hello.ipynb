{
 "cells": [
  {
   "cell_type": "code",
   "execution_count": 1,
   "id": "healthy-necessity",
   "metadata": {},
   "outputs": [],
   "source": [
    "import sys\n",
    "sys.path.append(\"../../galaxy_computer_vision_with_EFIGI_data\")"
   ]
  },
  {
   "cell_type": "code",
   "execution_count": 9,
   "id": "blocked-impossible",
   "metadata": {
    "scrolled": true
   },
   "outputs": [],
   "source": [
    "from galaxyquest.HelloWorld import HelloWorld"
   ]
  },
  {
   "cell_type": "code",
   "execution_count": 10,
   "id": "coated-ratio",
   "metadata": {},
   "outputs": [
    {
     "ename": "TypeError",
     "evalue": "sayhi() takes 0 positional arguments but 1 was given",
     "output_type": "error",
     "traceback": [
      "\u001b[1;31m---------------------------------------------------------------------------\u001b[0m",
      "\u001b[1;31mTypeError\u001b[0m                                 Traceback (most recent call last)",
      "\u001b[1;32m<ipython-input-10-805dea6bb3ef>\u001b[0m in \u001b[0;36m<module>\u001b[1;34m\u001b[0m\n\u001b[0;32m      1\u001b[0m \u001b[0mhello_world_object\u001b[0m \u001b[1;33m=\u001b[0m \u001b[0mHelloWorld\u001b[0m\u001b[1;33m(\u001b[0m\u001b[1;33m)\u001b[0m\u001b[1;33m\u001b[0m\u001b[1;33m\u001b[0m\u001b[0m\n\u001b[1;32m----> 2\u001b[1;33m \u001b[0mhello_world_object\u001b[0m\u001b[1;33m.\u001b[0m\u001b[0msayhi\u001b[0m\u001b[1;33m(\u001b[0m\u001b[1;33m)\u001b[0m\u001b[1;33m\u001b[0m\u001b[1;33m\u001b[0m\u001b[0m\n\u001b[0m",
      "\u001b[1;31mTypeError\u001b[0m: sayhi() takes 0 positional arguments but 1 was given"
     ]
    }
   ],
   "source": [
    "hello_world_object = HelloWorld()\n",
    "hello_world_object.sayhi()"
   ]
  },
  {
   "cell_type": "code",
   "execution_count": null,
   "id": "loose-brisbane",
   "metadata": {},
   "outputs": [],
   "source": []
  }
 ],
 "metadata": {
  "kernelspec": {
   "display_name": "Python 3",
   "language": "python",
   "name": "python3"
  }
 },
 "nbformat": 4,
 "nbformat_minor": 5
}
