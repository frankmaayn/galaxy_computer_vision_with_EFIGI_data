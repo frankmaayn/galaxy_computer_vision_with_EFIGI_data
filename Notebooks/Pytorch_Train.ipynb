{
 "metadata": {
  "language_info": {
   "codemirror_mode": {
    "name": "ipython",
    "version": 3
   },
   "file_extension": ".py",
   "mimetype": "text/x-python",
   "name": "python",
   "nbconvert_exporter": "python",
   "pygments_lexer": "ipython3",
   "version": "3.8.8"
  },
  "orig_nbformat": 2,
  "kernelspec": {
   "name": "python388jvsc74a57bd0d498f01e76f35f6ec088f546b2830faa5557302d29e38f9e82fec0cec6a226be",
   "display_name": "Python 3.8.8 64-bit ('galaxyquest': conda)"
  }
 },
 "nbformat": 4,
 "nbformat_minor": 2,
 "cells": [
  {
   "cell_type": "code",
   "execution_count": 1,
   "metadata": {},
   "outputs": [],
   "source": [
    "sys.path.append(\"../../galaxy_computer_vision_with_EFIGI_data\")\n",
    "import galaxyquest"
   ]
  },
  {
   "cell_type": "code",
   "execution_count": 2,
   "metadata": {},
   "outputs": [
    {
     "output_type": "stream",
     "name": "stderr",
     "text": [
      "Using cache found in C:\\Users\\dpale/.cache\\torch\\hub\\pytorch_vision_v0.6.0\n"
     ]
    }
   ],
   "source": [
    "from galaxyquest.cnn import Model\n",
    "from galaxyquest.cnn import EFIGIDataset\n",
    "from galaxyquest.cnn import alexnet_model\n",
    "dataset = EFIGIDataset(r\"../images/\", r\"../datasets/EFIGI_labels.csv\")\n",
    "alexnet = alexnet_model(5)\n",
    "model = Model(alexnet, dataset)"
   ]
  },
  {
   "cell_type": "code",
   "execution_count": 3,
   "metadata": {},
   "outputs": [
    {
     "output_type": "execute_result",
     "data": {
      "text/plain": [
       "{'image': tensor([[[-1.9638, -1.5870, -1.4672,  ..., -1.7925, -2.0665, -2.0494],\n",
       "          [-1.3987, -1.4672, -1.2274,  ..., -1.7754, -1.7240, -1.7583],\n",
       "          [-1.2445, -1.2274, -0.8164,  ..., -2.1179, -1.7583, -2.0494],\n",
       "          ...,\n",
       "          [-1.9980, -1.8097, -1.9467,  ..., -2.1179, -2.1179, -2.1179],\n",
       "          [-1.9638, -1.5870, -1.5185,  ..., -1.9809, -2.1179, -2.1179],\n",
       "          [-1.7583, -2.0323, -1.9980,  ..., -2.0837, -2.1179, -2.1179]],\n",
       " \n",
       "         [[-2.0665, -1.8953, -1.9467,  ..., -1.6384, -1.5528, -2.0494],\n",
       "          [-2.0665, -1.9124, -1.5699,  ..., -1.7412, -1.9295, -2.1008],\n",
       "          [-1.8610, -1.5699, -1.2788,  ..., -1.8439, -1.7412, -2.0665],\n",
       "          ...,\n",
       "          [-1.8268, -2.0665, -1.9638,  ..., -2.1008, -2.1179, -2.1179],\n",
       "          [-2.0152, -2.1008, -2.0665,  ..., -2.1179, -2.1179, -2.1179],\n",
       "          [-2.1179, -2.1179, -2.1179,  ..., -2.1179, -2.1179, -1.9295]],\n",
       " \n",
       "         [[-1.4843, -1.7412, -1.8097,  ..., -2.1008, -2.0494, -2.0494],\n",
       "          [-2.0323, -1.6555, -2.0152,  ..., -2.0152, -1.7412, -1.7754],\n",
       "          [-2.0494, -1.6384, -1.7069,  ..., -2.0323, -1.8953, -2.0837],\n",
       "          ...,\n",
       "          [-1.4329, -1.4672, -1.7412,  ..., -1.2959, -1.2274, -1.7583],\n",
       "          [-1.5185, -1.6384, -1.9124,  ..., -1.2274, -1.1760, -1.3815],\n",
       "          [-1.4843, -1.3644, -1.4843,  ..., -1.6042, -1.8268, -1.4329]]]),\n",
       " 'label': tensor(2),\n",
       " 'pgc_id': 'PGC0000218'}"
      ]
     },
     "metadata": {},
     "execution_count": 3
    }
   ],
   "source": [
    "dataset[1]"
   ]
  },
  {
   "cell_type": "code",
   "execution_count": 4,
   "metadata": {},
   "outputs": [
    {
     "output_type": "stream",
     "name": "stdout",
     "text": [
      "Epoch 0/0\n",
      "----------\n",
      "train Loss: 0.6239 Acc: 0.7798\n",
      "val Loss: 0.3477 Acc: 0.8849\n",
      "test Loss: 0.3688 Acc: 0.8520\n"
     ]
    }
   ],
   "source": [
    "model.train_model(1)"
   ]
  },
  {
   "cell_type": "code",
   "execution_count": 5,
   "metadata": {},
   "outputs": [
    {
     "output_type": "execute_result",
     "data": {
      "text/plain": [
       "2    3315\n",
       "1     537\n",
       "0     289\n",
       "3     248\n",
       "4      69\n",
       "Name: category_label, dtype: int64"
      ]
     },
     "metadata": {},
     "execution_count": 5
    }
   ],
   "source": [
    "dataset.label_dataframe[\"category_label\"].value_counts()"
   ]
  },
  {
   "cell_type": "code",
   "execution_count": 6,
   "metadata": {},
   "outputs": [
    {
     "output_type": "execute_result",
     "data": {
      "text/plain": [
       "669"
      ]
     },
     "metadata": {},
     "execution_count": 6
    }
   ],
   "source": [
    "len(model.eval_results[\"ground_truth_labels\"][0])"
   ]
  },
  {
   "cell_type": "code",
   "execution_count": 7,
   "metadata": {},
   "outputs": [
    {
     "output_type": "execute_result",
     "data": {
      "text/plain": [
       "669"
      ]
     },
     "metadata": {},
     "execution_count": 7
    }
   ],
   "source": [
    "len(model.eval_results[\"predicted_labels\"][0])"
   ]
  }
 ]
}